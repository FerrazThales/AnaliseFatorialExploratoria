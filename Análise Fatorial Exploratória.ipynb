{
 "cells": [
  {
   "cell_type": "markdown",
   "id": "8ce70fc3",
   "metadata": {},
   "source": [
    "# Análise Fatorial Exploratória no R\n",
    "\n",
    "Atualmente, uma quantidade significativa de informações geradas não é mais descartada, mas sim armazenada em diversos bancos de dados. Embora algumas dessas informações possam ser analisadas com estatísticas simples,outras análises exigem técnicas que levam em conta as **interações das diferentes variáveis** que compõem nossas bases de dados. Neste contexto, a **Análise Multivariada** é uma alternativa poderosa para analisar **múltiplas variáveis** e **suas interações** em relação a indivíduos ou objetos de pesquisa. A partir de técnicas de análises **multivariadas** é possível: avaliar a existência de **associações** entre diferentes variáveis, criar indicadores a partir da **correlação** de variáveis ou identificar **padrões** formados a partir das variáveis que estão em nossos bancos de dados. Ou seja, com estas técnicas é possível entender melhor a **relação** entre as variáveis estudadas.\n",
    "\n",
    "Uma das técnicas que está dentro do conjunto de Análise Multivariada é a **Análise Fatorial Exploratória** (AFE). A AFE é útil quando queremos identificar relações subjacentes (também chamado de fatores latentes) que representem nosso conjunto de dados. De forma mais simples, podemos dizer que a AFE nos ajuda a entender as \"estruturas ocultas/relações não óbvias\" de nossos dados. A Análise Fatorial exploratória é uma técnica de estatística muito utilizada em pesquisas científicas em diversas áreas do conhecimento. Para aprender um pouco mais sobre ela, você pode dar uma lida neste [artigo](https://periodicoscientificos.ufmt.br/ojs/index.php/eng/article/view/7599)!\n",
    "\n",
    "##### Objetivo deste Projeto\n",
    "É propor uma aplicação de Análise Fatorial Exploratória utilizando a Linguagem R.\n",
    "\n",
    "### Humor Styles Questionnaire Responses \n",
    "*O Questionário de Estilos de Humor*\n",
    "\n",
    "O Questionário de Estilos de Humor (HSQ) é um instrumento que permite que os próprios respondentes avaliem a qual estilo de humor individual pertencem. Existem quatro estilos de humor avaliados: humor afiliativo, otimista, agressivo e autodepreciativo. Essa estrutura de quatro estilos é baseada no trabalho de [Rod Martin](https://www.sciencedirect.com/science/article/abs/pii/S0092656602005342). Essa abordagem multidimensional do senso de humor foi traduzida para mais de 25 idiomas e possui um histórico psicométrico sólido, apresentando alta confiabilidade e validade em pesquisas realizadas em diferentes países e setores da sociedade.\n",
    "\n",
    "Neste projeto, utilizaremos uma base de dados obtida no [Kaggle](https://www.kaggle.com/datasets/lucasgreenwell/humor-styles-questionnaire-responses), composta por respostas de participantes aos 32 itens do questionário. Nosso objetivo é identificar a estrutura esperada de quatro fatores, ou seja, os quatro estilos de humor mencionados no modelo utilizando a **Análise Fatorial Exploratória**.\n",
    "\n",
    "http://rstudio-pubs-static.s3.amazonaws.com/497691_0f28e5764ad64b499bb68f8405446023.html#4_efa_with_minres_and_mle\n",
    "\n",
    "http://rstudio-pubs-static.s3.amazonaws.com/331051_810df8c0346a429d8542ba42f48af63e.html\n",
    "\n",
    "https://rpubs.com/asghar_minaei/967212\n",
    "\n",
    "\n",
    "###### Dicionário dos 32 itens - Entendendo melhor cada um dos questionários.\n",
    "\n",
    "Você encontra qual é o conteúdo dos 32 itens do modelo de Rod Martin, através deste [link](https://raw.githubusercontent.com/FerrazThales/AnaliseFatorialExploratoria/main/BaseDeDados/codebook.txt)."
   ]
  },
  {
   "cell_type": "code",
   "execution_count": 1,
   "id": "c48e0b97",
   "metadata": {},
   "outputs": [
    {
     "name": "stderr",
     "output_type": "stream",
     "text": [
      "corrplot 0.92 loaded\n",
      "\n"
     ]
    }
   ],
   "source": [
    "# bibliotecas que serão utilizadas no projeto\n",
    "library(psych)\n",
    "library(corrplot)\n",
    "library(EFA.MRFA)"
   ]
  },
  {
   "cell_type": "code",
   "execution_count": 2,
   "id": "75b967af",
   "metadata": {},
   "outputs": [
    {
     "data": {
      "text/html": [
       "<table class=\"dataframe\">\n",
       "<caption>A data.frame: 6 × 39</caption>\n",
       "<thead>\n",
       "\t<tr><th></th><th scope=col>Q1</th><th scope=col>Q2</th><th scope=col>Q3</th><th scope=col>Q4</th><th scope=col>Q5</th><th scope=col>Q6</th><th scope=col>Q7</th><th scope=col>Q8</th><th scope=col>Q9</th><th scope=col>Q10</th><th scope=col>⋯</th><th scope=col>Q30</th><th scope=col>Q31</th><th scope=col>Q32</th><th scope=col>affiliative</th><th scope=col>selfenhancing</th><th scope=col>agressive</th><th scope=col>selfdefeating</th><th scope=col>age</th><th scope=col>gender</th><th scope=col>accuracy</th></tr>\n",
       "\t<tr><th></th><th scope=col>&lt;int&gt;</th><th scope=col>&lt;int&gt;</th><th scope=col>&lt;int&gt;</th><th scope=col>&lt;int&gt;</th><th scope=col>&lt;int&gt;</th><th scope=col>&lt;int&gt;</th><th scope=col>&lt;int&gt;</th><th scope=col>&lt;int&gt;</th><th scope=col>&lt;int&gt;</th><th scope=col>&lt;int&gt;</th><th scope=col>⋯</th><th scope=col>&lt;int&gt;</th><th scope=col>&lt;int&gt;</th><th scope=col>&lt;int&gt;</th><th scope=col>&lt;dbl&gt;</th><th scope=col>&lt;dbl&gt;</th><th scope=col>&lt;dbl&gt;</th><th scope=col>&lt;dbl&gt;</th><th scope=col>&lt;int&gt;</th><th scope=col>&lt;int&gt;</th><th scope=col>&lt;int&gt;</th></tr>\n",
       "</thead>\n",
       "<tbody>\n",
       "\t<tr><th scope=row>1</th><td>2</td><td>2</td><td>3</td><td>1</td><td>4</td><td>5</td><td>4</td><td>3</td><td> 4</td><td>3</td><td>⋯</td><td>4</td><td>2</td><td>2</td><td>4.0</td><td>3.5</td><td>3.0</td><td>2.3</td><td>25</td><td>2</td><td>100</td></tr>\n",
       "\t<tr><th scope=row>2</th><td>2</td><td>3</td><td>2</td><td>2</td><td>4</td><td>4</td><td>4</td><td>3</td><td> 4</td><td>3</td><td>⋯</td><td>4</td><td>3</td><td>1</td><td>3.3</td><td>3.5</td><td>3.3</td><td>2.4</td><td>44</td><td>2</td><td> 90</td></tr>\n",
       "\t<tr><th scope=row>3</th><td>3</td><td>4</td><td>3</td><td>3</td><td>4</td><td>4</td><td>3</td><td>1</td><td> 2</td><td>4</td><td>⋯</td><td>5</td><td>4</td><td>2</td><td>3.9</td><td>3.9</td><td>3.1</td><td>2.3</td><td>50</td><td>1</td><td> 75</td></tr>\n",
       "\t<tr><th scope=row>4</th><td>3</td><td>3</td><td>3</td><td>4</td><td>3</td><td>5</td><td>4</td><td>3</td><td>-1</td><td>4</td><td>⋯</td><td>5</td><td>3</td><td>3</td><td>3.6</td><td>4.0</td><td>2.9</td><td>3.3</td><td>30</td><td>2</td><td> 85</td></tr>\n",
       "\t<tr><th scope=row>5</th><td>1</td><td>4</td><td>2</td><td>2</td><td>3</td><td>5</td><td>4</td><td>1</td><td> 4</td><td>4</td><td>⋯</td><td>5</td><td>4</td><td>2</td><td>4.1</td><td>4.1</td><td>2.9</td><td>2.0</td><td>52</td><td>1</td><td> 80</td></tr>\n",
       "\t<tr><th scope=row>6</th><td>3</td><td>3</td><td>3</td><td>2</td><td>3</td><td>3</td><td>4</td><td>2</td><td> 2</td><td>1</td><td>⋯</td><td>4</td><td>3</td><td>3</td><td>3.6</td><td>2.9</td><td>3.4</td><td>2.6</td><td>30</td><td>2</td><td> 60</td></tr>\n",
       "</tbody>\n",
       "</table>\n"
      ],
      "text/latex": [
       "A data.frame: 6 × 39\n",
       "\\begin{tabular}{r|lllllllllllllllllllll}\n",
       "  & Q1 & Q2 & Q3 & Q4 & Q5 & Q6 & Q7 & Q8 & Q9 & Q10 & ⋯ & Q30 & Q31 & Q32 & affiliative & selfenhancing & agressive & selfdefeating & age & gender & accuracy\\\\\n",
       "  & <int> & <int> & <int> & <int> & <int> & <int> & <int> & <int> & <int> & <int> & ⋯ & <int> & <int> & <int> & <dbl> & <dbl> & <dbl> & <dbl> & <int> & <int> & <int>\\\\\n",
       "\\hline\n",
       "\t1 & 2 & 2 & 3 & 1 & 4 & 5 & 4 & 3 &  4 & 3 & ⋯ & 4 & 2 & 2 & 4.0 & 3.5 & 3.0 & 2.3 & 25 & 2 & 100\\\\\n",
       "\t2 & 2 & 3 & 2 & 2 & 4 & 4 & 4 & 3 &  4 & 3 & ⋯ & 4 & 3 & 1 & 3.3 & 3.5 & 3.3 & 2.4 & 44 & 2 &  90\\\\\n",
       "\t3 & 3 & 4 & 3 & 3 & 4 & 4 & 3 & 1 &  2 & 4 & ⋯ & 5 & 4 & 2 & 3.9 & 3.9 & 3.1 & 2.3 & 50 & 1 &  75\\\\\n",
       "\t4 & 3 & 3 & 3 & 4 & 3 & 5 & 4 & 3 & -1 & 4 & ⋯ & 5 & 3 & 3 & 3.6 & 4.0 & 2.9 & 3.3 & 30 & 2 &  85\\\\\n",
       "\t5 & 1 & 4 & 2 & 2 & 3 & 5 & 4 & 1 &  4 & 4 & ⋯ & 5 & 4 & 2 & 4.1 & 4.1 & 2.9 & 2.0 & 52 & 1 &  80\\\\\n",
       "\t6 & 3 & 3 & 3 & 2 & 3 & 3 & 4 & 2 &  2 & 1 & ⋯ & 4 & 3 & 3 & 3.6 & 2.9 & 3.4 & 2.6 & 30 & 2 &  60\\\\\n",
       "\\end{tabular}\n"
      ],
      "text/markdown": [
       "\n",
       "A data.frame: 6 × 39\n",
       "\n",
       "| <!--/--> | Q1 &lt;int&gt; | Q2 &lt;int&gt; | Q3 &lt;int&gt; | Q4 &lt;int&gt; | Q5 &lt;int&gt; | Q6 &lt;int&gt; | Q7 &lt;int&gt; | Q8 &lt;int&gt; | Q9 &lt;int&gt; | Q10 &lt;int&gt; | ⋯ ⋯ | Q30 &lt;int&gt; | Q31 &lt;int&gt; | Q32 &lt;int&gt; | affiliative &lt;dbl&gt; | selfenhancing &lt;dbl&gt; | agressive &lt;dbl&gt; | selfdefeating &lt;dbl&gt; | age &lt;int&gt; | gender &lt;int&gt; | accuracy &lt;int&gt; |\n",
       "|---|---|---|---|---|---|---|---|---|---|---|---|---|---|---|---|---|---|---|---|---|---|\n",
       "| 1 | 2 | 2 | 3 | 1 | 4 | 5 | 4 | 3 |  4 | 3 | ⋯ | 4 | 2 | 2 | 4.0 | 3.5 | 3.0 | 2.3 | 25 | 2 | 100 |\n",
       "| 2 | 2 | 3 | 2 | 2 | 4 | 4 | 4 | 3 |  4 | 3 | ⋯ | 4 | 3 | 1 | 3.3 | 3.5 | 3.3 | 2.4 | 44 | 2 |  90 |\n",
       "| 3 | 3 | 4 | 3 | 3 | 4 | 4 | 3 | 1 |  2 | 4 | ⋯ | 5 | 4 | 2 | 3.9 | 3.9 | 3.1 | 2.3 | 50 | 1 |  75 |\n",
       "| 4 | 3 | 3 | 3 | 4 | 3 | 5 | 4 | 3 | -1 | 4 | ⋯ | 5 | 3 | 3 | 3.6 | 4.0 | 2.9 | 3.3 | 30 | 2 |  85 |\n",
       "| 5 | 1 | 4 | 2 | 2 | 3 | 5 | 4 | 1 |  4 | 4 | ⋯ | 5 | 4 | 2 | 4.1 | 4.1 | 2.9 | 2.0 | 52 | 1 |  80 |\n",
       "| 6 | 3 | 3 | 3 | 2 | 3 | 3 | 4 | 2 |  2 | 1 | ⋯ | 4 | 3 | 3 | 3.6 | 2.9 | 3.4 | 2.6 | 30 | 2 |  60 |\n",
       "\n"
      ],
      "text/plain": [
       "  Q1 Q2 Q3 Q4 Q5 Q6 Q7 Q8 Q9 Q10 ⋯ Q30 Q31 Q32 affiliative selfenhancing\n",
       "1 2  2  3  1  4  5  4  3   4 3   ⋯ 4   2   2   4.0         3.5          \n",
       "2 2  3  2  2  4  4  4  3   4 3   ⋯ 4   3   1   3.3         3.5          \n",
       "3 3  4  3  3  4  4  3  1   2 4   ⋯ 5   4   2   3.9         3.9          \n",
       "4 3  3  3  4  3  5  4  3  -1 4   ⋯ 5   3   3   3.6         4.0          \n",
       "5 1  4  2  2  3  5  4  1   4 4   ⋯ 5   4   2   4.1         4.1          \n",
       "6 3  3  3  2  3  3  4  2   2 1   ⋯ 4   3   3   3.6         2.9          \n",
       "  agressive selfdefeating age gender accuracy\n",
       "1 3.0       2.3           25  2      100     \n",
       "2 3.3       2.4           44  2       90     \n",
       "3 3.1       2.3           50  1       75     \n",
       "4 2.9       3.3           30  2       85     \n",
       "5 2.9       2.0           52  1       80     \n",
       "6 3.4       2.6           30  2       60     "
      ]
     },
     "metadata": {},
     "output_type": "display_data"
    }
   ],
   "source": [
    "# lendo a base de dados de um csv\n",
    "path <- \"BaseDeDados/data.csv\"\n",
    "# armazenando dentro de uma variável, a df\n",
    "df <- read.csv(path)\n",
    "# visualizando as 6 primeiras linhas do dataframe\n",
    "head(df)"
   ]
  },
  {
   "cell_type": "markdown",
   "id": "d9b96887",
   "metadata": {},
   "source": [
    "Nosso dataframe trouxe cada um dos 32 itens (veja o conteúdo neste [link](https://raw.githubusercontent.com/FerrazThales/AnaliseFatorialExploratoria/main/BaseDeDados/codebook.txt)) a serem respondidos e algumas outras variáveis como gênero e idade que **não serão avaliadas** neste artigo. \n",
    "\n",
    "Repare que as respostas aos 32 itens vão de 1 a 5. Sendo:\n",
    "\n",
    "* 1 = Nunca ou muito raramente verdadeiro\n",
    "* 2 = Raramente verdadeiro\n",
    "* 3 = Às vezes verdadeiro\n",
    "* 4 = Frequentemente verdadeiro\n",
    "* 5 = Muito frequentemente ou sempre verdadeiro\n",
    "* -1 = Não selecionou uma resposta\n",
    "\n",
    "Os dados também trazem as variáveis (colunas que estão no final do dataframe) que representam os estilos de humor de acordo com o estudo de [Rod Martin]((https://www.sciencedirect.com/science/article/abs/pii/S0092656602005342)):*affiliative, selfenhancing, agressive, selfdefeating*. Também vamos **desconsiderar** estas variáveis! Uma vez que nosso objetivo é encontrar estes 04 tipos de humor utilizando apenas as 32 questões."
   ]
  },
  {
   "cell_type": "code",
   "execution_count": 3,
   "id": "bc88904a",
   "metadata": {},
   "outputs": [
    {
     "name": "stdout",
     "output_type": "stream",
     "text": [
      "Número de Participantes: 1071 \n",
      "Número de Variáveis: 32"
     ]
    }
   ],
   "source": [
    "# utilizando os valores apenas das questões (1~32)\n",
    "df <- df[,c(1:32)]\n",
    "# calculando o número de linhas do dataframe\n",
    "num_participantes <- nrow(df)\n",
    "# calculando o número de colunas do dataframe\n",
    "num_var <- ncol(df)\n",
    "cat('Número de Participantes:',num_participantes,'\\n')\n",
    "cat('Número de Variáveis:',num_var)"
   ]
  },
  {
   "cell_type": "markdown",
   "id": "627f9be2",
   "metadata": {},
   "source": [
    "# Análise Exploratória de Dados\n",
    "\n",
    "Agora é a hora de dar uma olhada inicial nos dados. Entender como está a distribuição de cada variável, se existem valores nulos ou outliers.\n",
    "\n",
    "Primeiro vamos usar o método [describe](https://www.rdocumentation.org/packages/psych/versions/1.7.8/topics/describe). Ele fornece algumas estatísticas descritivas para cada variável do dataframe: \n",
    "* **vars**: o número de variáveis analisadas.\n",
    "* **n**: o número de observações válidas para cada variável.\n",
    "* **mean**: a média das observações.\n",
    "* **sd**: o desvio padrão das observações.\n",
    "* **median**: a mediana das observações.\n",
    "* **trimmed**: a média truncada das observações, que exclui uma proporção igual de valores extremos em cada extremidade da distribuição.\n",
    "* **mad**: o desvio absoluto da mediana, uma medida robusta de dispersão.\n",
    "* **min**: o valor mínimo das observações.\n",
    "* **max**: o valor máximo das observações.\n",
    "* **range**: a amplitude, ou seja, a diferença entre o valor máximo e o valor mínimo.\n",
    "* **skew**: a assimetria da distribuição, indicando se ela é deslocada para a esquerda ou para a direita.**Faz mais sentido aplicar em variáveis contínuas!**\n",
    "* **kurtosis**: a curtose da distribuição, que mede o grau de achatamento em relação à distribuição normal.**Faz mais sentido aplicar em variáveis contínuas!**\n",
    "* **se**: o erro padrão da média, uma estimativa da variabilidade da média."
   ]
  },
  {
   "cell_type": "code",
   "execution_count": 4,
   "id": "a7800f2c",
   "metadata": {},
   "outputs": [
    {
     "data": {
      "text/html": [
       "<table class=\"dataframe\">\n",
       "<caption>A psych: 32 × 13</caption>\n",
       "<thead>\n",
       "\t<tr><th></th><th scope=col>vars</th><th scope=col>n</th><th scope=col>mean</th><th scope=col>sd</th><th scope=col>median</th><th scope=col>trimmed</th><th scope=col>mad</th><th scope=col>min</th><th scope=col>max</th><th scope=col>range</th><th scope=col>skew</th><th scope=col>kurtosis</th><th scope=col>se</th></tr>\n",
       "\t<tr><th></th><th scope=col>&lt;dbl&gt;</th><th scope=col>&lt;dbl&gt;</th><th scope=col>&lt;dbl&gt;</th><th scope=col>&lt;dbl&gt;</th><th scope=col>&lt;dbl&gt;</th><th scope=col>&lt;dbl&gt;</th><th scope=col>&lt;dbl&gt;</th><th scope=col>&lt;dbl&gt;</th><th scope=col>&lt;dbl&gt;</th><th scope=col>&lt;dbl&gt;</th><th scope=col>&lt;dbl&gt;</th><th scope=col>&lt;dbl&gt;</th><th scope=col>&lt;dbl&gt;</th></tr>\n",
       "</thead>\n",
       "<tbody>\n",
       "\t<tr><th scope=row>Q1</th><td> 1</td><td>1071</td><td>2.03</td><td>1.08</td><td>2</td><td>1.88</td><td>1.48</td><td>-1</td><td>5</td><td>6</td><td> 0.86</td><td> 0.26</td><td>0.03</td></tr>\n",
       "\t<tr><th scope=row>Q2</th><td> 2</td><td>1071</td><td>3.34</td><td>1.11</td><td>3</td><td>3.39</td><td>1.48</td><td>-1</td><td>5</td><td>6</td><td>-0.43</td><td>-0.13</td><td>0.03</td></tr>\n",
       "\t<tr><th scope=row>Q3</th><td> 3</td><td>1071</td><td>3.08</td><td>1.17</td><td>3</td><td>3.10</td><td>1.48</td><td>-1</td><td>5</td><td>6</td><td>-0.17</td><td>-0.62</td><td>0.04</td></tr>\n",
       "\t<tr><th scope=row>Q4</th><td> 4</td><td>1071</td><td>2.83</td><td>1.16</td><td>3</td><td>2.81</td><td>1.48</td><td>-1</td><td>5</td><td>6</td><td> 0.11</td><td>-0.74</td><td>0.04</td></tr>\n",
       "\t<tr><th scope=row>Q5</th><td> 5</td><td>1071</td><td>3.60</td><td>1.06</td><td>4</td><td>3.68</td><td>1.48</td><td>-1</td><td>5</td><td>6</td><td>-0.63</td><td> 0.23</td><td>0.03</td></tr>\n",
       "\t<tr><th scope=row>Q6</th><td> 6</td><td>1071</td><td>4.15</td><td>0.98</td><td>4</td><td>4.30</td><td>1.48</td><td>-1</td><td>5</td><td>6</td><td>-1.26</td><td> 1.75</td><td>0.03</td></tr>\n",
       "\t<tr><th scope=row>Q7</th><td> 7</td><td>1071</td><td>3.28</td><td>1.10</td><td>3</td><td>3.31</td><td>1.48</td><td>-1</td><td>5</td><td>6</td><td>-0.40</td><td>-0.23</td><td>0.03</td></tr>\n",
       "\t<tr><th scope=row>Q8</th><td> 8</td><td>1071</td><td>2.54</td><td>1.23</td><td>2</td><td>2.48</td><td>1.48</td><td>-1</td><td>5</td><td>6</td><td> 0.22</td><td>-0.62</td><td>0.04</td></tr>\n",
       "\t<tr><th scope=row>Q9</th><td> 9</td><td>1071</td><td>2.58</td><td>1.22</td><td>2</td><td>2.50</td><td>1.48</td><td>-1</td><td>5</td><td>6</td><td> 0.40</td><td>-0.56</td><td>0.04</td></tr>\n",
       "\t<tr><th scope=row>Q10</th><td>10</td><td>1071</td><td>2.87</td><td>1.21</td><td>3</td><td>2.86</td><td>1.48</td><td>-1</td><td>5</td><td>6</td><td>-0.04</td><td>-0.72</td><td>0.04</td></tr>\n",
       "\t<tr><th scope=row>Q11</th><td>11</td><td>1071</td><td>2.74</td><td>1.25</td><td>3</td><td>2.69</td><td>1.48</td><td>-1</td><td>5</td><td>6</td><td> 0.21</td><td>-0.94</td><td>0.04</td></tr>\n",
       "\t<tr><th scope=row>Q12</th><td>12</td><td>1071</td><td>2.97</td><td>1.23</td><td>3</td><td>2.96</td><td>1.48</td><td>-1</td><td>5</td><td>6</td><td>-0.11</td><td>-0.85</td><td>0.04</td></tr>\n",
       "\t<tr><th scope=row>Q13</th><td>13</td><td>1071</td><td>4.44</td><td>0.88</td><td>5</td><td>4.63</td><td>0.00</td><td>-1</td><td>5</td><td>6</td><td>-2.00</td><td> 4.90</td><td>0.03</td></tr>\n",
       "\t<tr><th scope=row>Q14</th><td>14</td><td>1071</td><td>3.27</td><td>1.27</td><td>3</td><td>3.34</td><td>1.48</td><td>-1</td><td>5</td><td>6</td><td>-0.31</td><td>-0.67</td><td>0.04</td></tr>\n",
       "\t<tr><th scope=row>Q15</th><td>15</td><td>1071</td><td>3.37</td><td>1.38</td><td>3</td><td>3.48</td><td>1.48</td><td>-1</td><td>5</td><td>6</td><td>-0.41</td><td>-0.74</td><td>0.04</td></tr>\n",
       "\t<tr><th scope=row>Q16</th><td>16</td><td>1071</td><td>3.10</td><td>1.21</td><td>3</td><td>3.13</td><td>1.48</td><td>-1</td><td>5</td><td>6</td><td>-0.19</td><td>-0.55</td><td>0.04</td></tr>\n",
       "\t<tr><th scope=row>Q17</th><td>17</td><td>1071</td><td>1.92</td><td>1.15</td><td>2</td><td>1.75</td><td>1.48</td><td>-1</td><td>5</td><td>6</td><td> 0.86</td><td> 0.54</td><td>0.04</td></tr>\n",
       "\t<tr><th scope=row>Q18</th><td>18</td><td>1071</td><td>2.75</td><td>1.21</td><td>3</td><td>2.73</td><td>1.48</td><td>-1</td><td>5</td><td>6</td><td> 0.03</td><td>-0.55</td><td>0.04</td></tr>\n",
       "\t<tr><th scope=row>Q19</th><td>19</td><td>1071</td><td>3.24</td><td>1.26</td><td>3</td><td>3.31</td><td>1.48</td><td>-1</td><td>5</td><td>6</td><td>-0.35</td><td>-0.63</td><td>0.04</td></tr>\n",
       "\t<tr><th scope=row>Q20</th><td>20</td><td>1071</td><td>2.10</td><td>1.12</td><td>2</td><td>1.97</td><td>1.48</td><td>-1</td><td>5</td><td>6</td><td> 0.69</td><td>-0.04</td><td>0.03</td></tr>\n",
       "\t<tr><th scope=row>Q21</th><td>21</td><td>1071</td><td>4.36</td><td>0.97</td><td>5</td><td>4.55</td><td>0.00</td><td>-1</td><td>5</td><td>6</td><td>-2.23</td><td> 7.04</td><td>0.03</td></tr>\n",
       "\t<tr><th scope=row>Q22</th><td>22</td><td>1071</td><td>3.02</td><td>1.24</td><td>3</td><td>3.04</td><td>1.48</td><td>-1</td><td>5</td><td>6</td><td>-0.21</td><td>-0.49</td><td>0.04</td></tr>\n",
       "\t<tr><th scope=row>Q23</th><td>23</td><td>1071</td><td>2.76</td><td>1.22</td><td>3</td><td>2.74</td><td>1.48</td><td>-1</td><td>5</td><td>6</td><td> 0.00</td><td>-0.46</td><td>0.04</td></tr>\n",
       "\t<tr><th scope=row>Q24</th><td>24</td><td>1071</td><td>2.40</td><td>1.15</td><td>2</td><td>2.33</td><td>1.48</td><td>-1</td><td>5</td><td>6</td><td> 0.39</td><td>-0.13</td><td>0.04</td></tr>\n",
       "\t<tr><th scope=row>Q25</th><td>25</td><td>1071</td><td>1.54</td><td>0.89</td><td>1</td><td>1.38</td><td>0.00</td><td>-1</td><td>5</td><td>6</td><td> 1.44</td><td> 3.24</td><td>0.03</td></tr>\n",
       "\t<tr><th scope=row>Q26</th><td>26</td><td>1071</td><td>3.51</td><td>1.21</td><td>4</td><td>3.62</td><td>1.48</td><td>-1</td><td>5</td><td>6</td><td>-0.79</td><td> 0.58</td><td>0.04</td></tr>\n",
       "\t<tr><th scope=row>Q27</th><td>27</td><td>1071</td><td>2.27</td><td>1.29</td><td>2</td><td>2.13</td><td>1.48</td><td>-1</td><td>5</td><td>6</td><td> 0.61</td><td>-0.60</td><td>0.04</td></tr>\n",
       "\t<tr><th scope=row>Q28</th><td>28</td><td>1071</td><td>3.21</td><td>1.32</td><td>3</td><td>3.27</td><td>1.48</td><td>-1</td><td>5</td><td>6</td><td>-0.32</td><td>-0.81</td><td>0.04</td></tr>\n",
       "\t<tr><th scope=row>Q29</th><td>29</td><td>1071</td><td>2.32</td><td>1.21</td><td>2</td><td>2.21</td><td>1.48</td><td>-1</td><td>5</td><td>6</td><td> 0.55</td><td>-0.29</td><td>0.04</td></tr>\n",
       "\t<tr><th scope=row>Q30</th><td>30</td><td>1071</td><td>3.95</td><td>1.14</td><td>4</td><td>4.11</td><td>1.48</td><td>-1</td><td>5</td><td>6</td><td>-1.24</td><td> 1.84</td><td>0.03</td></tr>\n",
       "\t<tr><th scope=row>Q31</th><td>31</td><td>1071</td><td>2.77</td><td>1.31</td><td>3</td><td>2.73</td><td>1.48</td><td>-1</td><td>5</td><td>6</td><td>-0.01</td><td>-0.82</td><td>0.04</td></tr>\n",
       "\t<tr><th scope=row>Q32</th><td>32</td><td>1071</td><td>2.84</td><td>1.23</td><td>3</td><td>2.82</td><td>1.48</td><td>-1</td><td>5</td><td>6</td><td>-0.05</td><td>-0.80</td><td>0.04</td></tr>\n",
       "</tbody>\n",
       "</table>\n"
      ],
      "text/latex": [
       "A psych: 32 × 13\n",
       "\\begin{tabular}{r|lllllllllllll}\n",
       "  & vars & n & mean & sd & median & trimmed & mad & min & max & range & skew & kurtosis & se\\\\\n",
       "  & <dbl> & <dbl> & <dbl> & <dbl> & <dbl> & <dbl> & <dbl> & <dbl> & <dbl> & <dbl> & <dbl> & <dbl> & <dbl>\\\\\n",
       "\\hline\n",
       "\tQ1 &  1 & 1071 & 2.03 & 1.08 & 2 & 1.88 & 1.48 & -1 & 5 & 6 &  0.86 &  0.26 & 0.03\\\\\n",
       "\tQ2 &  2 & 1071 & 3.34 & 1.11 & 3 & 3.39 & 1.48 & -1 & 5 & 6 & -0.43 & -0.13 & 0.03\\\\\n",
       "\tQ3 &  3 & 1071 & 3.08 & 1.17 & 3 & 3.10 & 1.48 & -1 & 5 & 6 & -0.17 & -0.62 & 0.04\\\\\n",
       "\tQ4 &  4 & 1071 & 2.83 & 1.16 & 3 & 2.81 & 1.48 & -1 & 5 & 6 &  0.11 & -0.74 & 0.04\\\\\n",
       "\tQ5 &  5 & 1071 & 3.60 & 1.06 & 4 & 3.68 & 1.48 & -1 & 5 & 6 & -0.63 &  0.23 & 0.03\\\\\n",
       "\tQ6 &  6 & 1071 & 4.15 & 0.98 & 4 & 4.30 & 1.48 & -1 & 5 & 6 & -1.26 &  1.75 & 0.03\\\\\n",
       "\tQ7 &  7 & 1071 & 3.28 & 1.10 & 3 & 3.31 & 1.48 & -1 & 5 & 6 & -0.40 & -0.23 & 0.03\\\\\n",
       "\tQ8 &  8 & 1071 & 2.54 & 1.23 & 2 & 2.48 & 1.48 & -1 & 5 & 6 &  0.22 & -0.62 & 0.04\\\\\n",
       "\tQ9 &  9 & 1071 & 2.58 & 1.22 & 2 & 2.50 & 1.48 & -1 & 5 & 6 &  0.40 & -0.56 & 0.04\\\\\n",
       "\tQ10 & 10 & 1071 & 2.87 & 1.21 & 3 & 2.86 & 1.48 & -1 & 5 & 6 & -0.04 & -0.72 & 0.04\\\\\n",
       "\tQ11 & 11 & 1071 & 2.74 & 1.25 & 3 & 2.69 & 1.48 & -1 & 5 & 6 &  0.21 & -0.94 & 0.04\\\\\n",
       "\tQ12 & 12 & 1071 & 2.97 & 1.23 & 3 & 2.96 & 1.48 & -1 & 5 & 6 & -0.11 & -0.85 & 0.04\\\\\n",
       "\tQ13 & 13 & 1071 & 4.44 & 0.88 & 5 & 4.63 & 0.00 & -1 & 5 & 6 & -2.00 &  4.90 & 0.03\\\\\n",
       "\tQ14 & 14 & 1071 & 3.27 & 1.27 & 3 & 3.34 & 1.48 & -1 & 5 & 6 & -0.31 & -0.67 & 0.04\\\\\n",
       "\tQ15 & 15 & 1071 & 3.37 & 1.38 & 3 & 3.48 & 1.48 & -1 & 5 & 6 & -0.41 & -0.74 & 0.04\\\\\n",
       "\tQ16 & 16 & 1071 & 3.10 & 1.21 & 3 & 3.13 & 1.48 & -1 & 5 & 6 & -0.19 & -0.55 & 0.04\\\\\n",
       "\tQ17 & 17 & 1071 & 1.92 & 1.15 & 2 & 1.75 & 1.48 & -1 & 5 & 6 &  0.86 &  0.54 & 0.04\\\\\n",
       "\tQ18 & 18 & 1071 & 2.75 & 1.21 & 3 & 2.73 & 1.48 & -1 & 5 & 6 &  0.03 & -0.55 & 0.04\\\\\n",
       "\tQ19 & 19 & 1071 & 3.24 & 1.26 & 3 & 3.31 & 1.48 & -1 & 5 & 6 & -0.35 & -0.63 & 0.04\\\\\n",
       "\tQ20 & 20 & 1071 & 2.10 & 1.12 & 2 & 1.97 & 1.48 & -1 & 5 & 6 &  0.69 & -0.04 & 0.03\\\\\n",
       "\tQ21 & 21 & 1071 & 4.36 & 0.97 & 5 & 4.55 & 0.00 & -1 & 5 & 6 & -2.23 &  7.04 & 0.03\\\\\n",
       "\tQ22 & 22 & 1071 & 3.02 & 1.24 & 3 & 3.04 & 1.48 & -1 & 5 & 6 & -0.21 & -0.49 & 0.04\\\\\n",
       "\tQ23 & 23 & 1071 & 2.76 & 1.22 & 3 & 2.74 & 1.48 & -1 & 5 & 6 &  0.00 & -0.46 & 0.04\\\\\n",
       "\tQ24 & 24 & 1071 & 2.40 & 1.15 & 2 & 2.33 & 1.48 & -1 & 5 & 6 &  0.39 & -0.13 & 0.04\\\\\n",
       "\tQ25 & 25 & 1071 & 1.54 & 0.89 & 1 & 1.38 & 0.00 & -1 & 5 & 6 &  1.44 &  3.24 & 0.03\\\\\n",
       "\tQ26 & 26 & 1071 & 3.51 & 1.21 & 4 & 3.62 & 1.48 & -1 & 5 & 6 & -0.79 &  0.58 & 0.04\\\\\n",
       "\tQ27 & 27 & 1071 & 2.27 & 1.29 & 2 & 2.13 & 1.48 & -1 & 5 & 6 &  0.61 & -0.60 & 0.04\\\\\n",
       "\tQ28 & 28 & 1071 & 3.21 & 1.32 & 3 & 3.27 & 1.48 & -1 & 5 & 6 & -0.32 & -0.81 & 0.04\\\\\n",
       "\tQ29 & 29 & 1071 & 2.32 & 1.21 & 2 & 2.21 & 1.48 & -1 & 5 & 6 &  0.55 & -0.29 & 0.04\\\\\n",
       "\tQ30 & 30 & 1071 & 3.95 & 1.14 & 4 & 4.11 & 1.48 & -1 & 5 & 6 & -1.24 &  1.84 & 0.03\\\\\n",
       "\tQ31 & 31 & 1071 & 2.77 & 1.31 & 3 & 2.73 & 1.48 & -1 & 5 & 6 & -0.01 & -0.82 & 0.04\\\\\n",
       "\tQ32 & 32 & 1071 & 2.84 & 1.23 & 3 & 2.82 & 1.48 & -1 & 5 & 6 & -0.05 & -0.80 & 0.04\\\\\n",
       "\\end{tabular}\n"
      ],
      "text/markdown": [
       "\n",
       "A psych: 32 × 13\n",
       "\n",
       "| <!--/--> | vars &lt;dbl&gt; | n &lt;dbl&gt; | mean &lt;dbl&gt; | sd &lt;dbl&gt; | median &lt;dbl&gt; | trimmed &lt;dbl&gt; | mad &lt;dbl&gt; | min &lt;dbl&gt; | max &lt;dbl&gt; | range &lt;dbl&gt; | skew &lt;dbl&gt; | kurtosis &lt;dbl&gt; | se &lt;dbl&gt; |\n",
       "|---|---|---|---|---|---|---|---|---|---|---|---|---|---|\n",
       "| Q1 |  1 | 1071 | 2.03 | 1.08 | 2 | 1.88 | 1.48 | -1 | 5 | 6 |  0.86 |  0.26 | 0.03 |\n",
       "| Q2 |  2 | 1071 | 3.34 | 1.11 | 3 | 3.39 | 1.48 | -1 | 5 | 6 | -0.43 | -0.13 | 0.03 |\n",
       "| Q3 |  3 | 1071 | 3.08 | 1.17 | 3 | 3.10 | 1.48 | -1 | 5 | 6 | -0.17 | -0.62 | 0.04 |\n",
       "| Q4 |  4 | 1071 | 2.83 | 1.16 | 3 | 2.81 | 1.48 | -1 | 5 | 6 |  0.11 | -0.74 | 0.04 |\n",
       "| Q5 |  5 | 1071 | 3.60 | 1.06 | 4 | 3.68 | 1.48 | -1 | 5 | 6 | -0.63 |  0.23 | 0.03 |\n",
       "| Q6 |  6 | 1071 | 4.15 | 0.98 | 4 | 4.30 | 1.48 | -1 | 5 | 6 | -1.26 |  1.75 | 0.03 |\n",
       "| Q7 |  7 | 1071 | 3.28 | 1.10 | 3 | 3.31 | 1.48 | -1 | 5 | 6 | -0.40 | -0.23 | 0.03 |\n",
       "| Q8 |  8 | 1071 | 2.54 | 1.23 | 2 | 2.48 | 1.48 | -1 | 5 | 6 |  0.22 | -0.62 | 0.04 |\n",
       "| Q9 |  9 | 1071 | 2.58 | 1.22 | 2 | 2.50 | 1.48 | -1 | 5 | 6 |  0.40 | -0.56 | 0.04 |\n",
       "| Q10 | 10 | 1071 | 2.87 | 1.21 | 3 | 2.86 | 1.48 | -1 | 5 | 6 | -0.04 | -0.72 | 0.04 |\n",
       "| Q11 | 11 | 1071 | 2.74 | 1.25 | 3 | 2.69 | 1.48 | -1 | 5 | 6 |  0.21 | -0.94 | 0.04 |\n",
       "| Q12 | 12 | 1071 | 2.97 | 1.23 | 3 | 2.96 | 1.48 | -1 | 5 | 6 | -0.11 | -0.85 | 0.04 |\n",
       "| Q13 | 13 | 1071 | 4.44 | 0.88 | 5 | 4.63 | 0.00 | -1 | 5 | 6 | -2.00 |  4.90 | 0.03 |\n",
       "| Q14 | 14 | 1071 | 3.27 | 1.27 | 3 | 3.34 | 1.48 | -1 | 5 | 6 | -0.31 | -0.67 | 0.04 |\n",
       "| Q15 | 15 | 1071 | 3.37 | 1.38 | 3 | 3.48 | 1.48 | -1 | 5 | 6 | -0.41 | -0.74 | 0.04 |\n",
       "| Q16 | 16 | 1071 | 3.10 | 1.21 | 3 | 3.13 | 1.48 | -1 | 5 | 6 | -0.19 | -0.55 | 0.04 |\n",
       "| Q17 | 17 | 1071 | 1.92 | 1.15 | 2 | 1.75 | 1.48 | -1 | 5 | 6 |  0.86 |  0.54 | 0.04 |\n",
       "| Q18 | 18 | 1071 | 2.75 | 1.21 | 3 | 2.73 | 1.48 | -1 | 5 | 6 |  0.03 | -0.55 | 0.04 |\n",
       "| Q19 | 19 | 1071 | 3.24 | 1.26 | 3 | 3.31 | 1.48 | -1 | 5 | 6 | -0.35 | -0.63 | 0.04 |\n",
       "| Q20 | 20 | 1071 | 2.10 | 1.12 | 2 | 1.97 | 1.48 | -1 | 5 | 6 |  0.69 | -0.04 | 0.03 |\n",
       "| Q21 | 21 | 1071 | 4.36 | 0.97 | 5 | 4.55 | 0.00 | -1 | 5 | 6 | -2.23 |  7.04 | 0.03 |\n",
       "| Q22 | 22 | 1071 | 3.02 | 1.24 | 3 | 3.04 | 1.48 | -1 | 5 | 6 | -0.21 | -0.49 | 0.04 |\n",
       "| Q23 | 23 | 1071 | 2.76 | 1.22 | 3 | 2.74 | 1.48 | -1 | 5 | 6 |  0.00 | -0.46 | 0.04 |\n",
       "| Q24 | 24 | 1071 | 2.40 | 1.15 | 2 | 2.33 | 1.48 | -1 | 5 | 6 |  0.39 | -0.13 | 0.04 |\n",
       "| Q25 | 25 | 1071 | 1.54 | 0.89 | 1 | 1.38 | 0.00 | -1 | 5 | 6 |  1.44 |  3.24 | 0.03 |\n",
       "| Q26 | 26 | 1071 | 3.51 | 1.21 | 4 | 3.62 | 1.48 | -1 | 5 | 6 | -0.79 |  0.58 | 0.04 |\n",
       "| Q27 | 27 | 1071 | 2.27 | 1.29 | 2 | 2.13 | 1.48 | -1 | 5 | 6 |  0.61 | -0.60 | 0.04 |\n",
       "| Q28 | 28 | 1071 | 3.21 | 1.32 | 3 | 3.27 | 1.48 | -1 | 5 | 6 | -0.32 | -0.81 | 0.04 |\n",
       "| Q29 | 29 | 1071 | 2.32 | 1.21 | 2 | 2.21 | 1.48 | -1 | 5 | 6 |  0.55 | -0.29 | 0.04 |\n",
       "| Q30 | 30 | 1071 | 3.95 | 1.14 | 4 | 4.11 | 1.48 | -1 | 5 | 6 | -1.24 |  1.84 | 0.03 |\n",
       "| Q31 | 31 | 1071 | 2.77 | 1.31 | 3 | 2.73 | 1.48 | -1 | 5 | 6 | -0.01 | -0.82 | 0.04 |\n",
       "| Q32 | 32 | 1071 | 2.84 | 1.23 | 3 | 2.82 | 1.48 | -1 | 5 | 6 | -0.05 | -0.80 | 0.04 |\n",
       "\n"
      ],
      "text/plain": [
       "    vars n    mean sd   median trimmed mad  min max range skew  kurtosis se  \n",
       "Q1   1   1071 2.03 1.08 2      1.88    1.48 -1  5   6      0.86  0.26    0.03\n",
       "Q2   2   1071 3.34 1.11 3      3.39    1.48 -1  5   6     -0.43 -0.13    0.03\n",
       "Q3   3   1071 3.08 1.17 3      3.10    1.48 -1  5   6     -0.17 -0.62    0.04\n",
       "Q4   4   1071 2.83 1.16 3      2.81    1.48 -1  5   6      0.11 -0.74    0.04\n",
       "Q5   5   1071 3.60 1.06 4      3.68    1.48 -1  5   6     -0.63  0.23    0.03\n",
       "Q6   6   1071 4.15 0.98 4      4.30    1.48 -1  5   6     -1.26  1.75    0.03\n",
       "Q7   7   1071 3.28 1.10 3      3.31    1.48 -1  5   6     -0.40 -0.23    0.03\n",
       "Q8   8   1071 2.54 1.23 2      2.48    1.48 -1  5   6      0.22 -0.62    0.04\n",
       "Q9   9   1071 2.58 1.22 2      2.50    1.48 -1  5   6      0.40 -0.56    0.04\n",
       "Q10 10   1071 2.87 1.21 3      2.86    1.48 -1  5   6     -0.04 -0.72    0.04\n",
       "Q11 11   1071 2.74 1.25 3      2.69    1.48 -1  5   6      0.21 -0.94    0.04\n",
       "Q12 12   1071 2.97 1.23 3      2.96    1.48 -1  5   6     -0.11 -0.85    0.04\n",
       "Q13 13   1071 4.44 0.88 5      4.63    0.00 -1  5   6     -2.00  4.90    0.03\n",
       "Q14 14   1071 3.27 1.27 3      3.34    1.48 -1  5   6     -0.31 -0.67    0.04\n",
       "Q15 15   1071 3.37 1.38 3      3.48    1.48 -1  5   6     -0.41 -0.74    0.04\n",
       "Q16 16   1071 3.10 1.21 3      3.13    1.48 -1  5   6     -0.19 -0.55    0.04\n",
       "Q17 17   1071 1.92 1.15 2      1.75    1.48 -1  5   6      0.86  0.54    0.04\n",
       "Q18 18   1071 2.75 1.21 3      2.73    1.48 -1  5   6      0.03 -0.55    0.04\n",
       "Q19 19   1071 3.24 1.26 3      3.31    1.48 -1  5   6     -0.35 -0.63    0.04\n",
       "Q20 20   1071 2.10 1.12 2      1.97    1.48 -1  5   6      0.69 -0.04    0.03\n",
       "Q21 21   1071 4.36 0.97 5      4.55    0.00 -1  5   6     -2.23  7.04    0.03\n",
       "Q22 22   1071 3.02 1.24 3      3.04    1.48 -1  5   6     -0.21 -0.49    0.04\n",
       "Q23 23   1071 2.76 1.22 3      2.74    1.48 -1  5   6      0.00 -0.46    0.04\n",
       "Q24 24   1071 2.40 1.15 2      2.33    1.48 -1  5   6      0.39 -0.13    0.04\n",
       "Q25 25   1071 1.54 0.89 1      1.38    0.00 -1  5   6      1.44  3.24    0.03\n",
       "Q26 26   1071 3.51 1.21 4      3.62    1.48 -1  5   6     -0.79  0.58    0.04\n",
       "Q27 27   1071 2.27 1.29 2      2.13    1.48 -1  5   6      0.61 -0.60    0.04\n",
       "Q28 28   1071 3.21 1.32 3      3.27    1.48 -1  5   6     -0.32 -0.81    0.04\n",
       "Q29 29   1071 2.32 1.21 2      2.21    1.48 -1  5   6      0.55 -0.29    0.04\n",
       "Q30 30   1071 3.95 1.14 4      4.11    1.48 -1  5   6     -1.24  1.84    0.03\n",
       "Q31 31   1071 2.77 1.31 3      2.73    1.48 -1  5   6     -0.01 -0.82    0.04\n",
       "Q32 32   1071 2.84 1.23 3      2.82    1.48 -1  5   6     -0.05 -0.80    0.04"
      ]
     },
     "metadata": {},
     "output_type": "display_data"
    }
   ],
   "source": [
    "# calculando as estatísticas descritivas do dataframe\n",
    "desc <- describe(df)\n",
    "# arrendondando para duas casas decimais\n",
    "round(desc,2)"
   ]
  },
  {
   "cell_type": "markdown",
   "id": "3d3ca122",
   "metadata": {},
   "source": [
    "Conforme esperado, os valores vão de -1 (não respondeu a questão) até 5 (considerou que o item é muito frequente ou verdadeiro). \n",
    "\n",
    "Agora vamos analisar a média das respostas e seus padrões. O gráfico abaixo é do método [error.dots](https://www.rdocumentation.org/packages/psych/versions/1.7.8/topics/error.dots), e nos ajuda a entender um pouco melhor sobre quais foram as médias de cada item e seus respectivos intervalos de confiança."
   ]
  },
  {
   "cell_type": "code",
   "execution_count": 5,
   "id": "a5ba2073",
   "metadata": {},
   "outputs": [
    {
     "data": {
      "image/png": "[encoded data removed]",
      "text/plain": [
       "Plot with title \"Confidence Intervals around the mean\""
      ]
     },
     "metadata": {
      "image/png": {
       "height": 420,
       "width": 420
      }
     },
     "output_type": "display_data"
    }
   ],
   "source": [
    "error.dots(df, sort = FALSE, alpha = 0.05,head=32) # intervalo de confiança a 95%"
   ]
  },
  {
   "cell_type": "markdown",
   "id": "093909db",
   "metadata": {},
   "source": [
    "As questões que tiveram as médias das notas mais próximas a 1 ou a 5 foram:\n",
    "\n",
    "* Próximas a 1 (*Nunca ou muito raramente verdadeiro*):\n",
    "    * **Q25**: *I don't often joke around with my friends*.\n",
    "* Próximas a 5 (*Muito frequentemente ou sempre verdadeiro*):\n",
    "    * **Q13**:  *I laugh and joke a lot with my closest friends*.\n",
    "    * **Q21**: *I enjoy making people laugh*.\n",
    "### Verificando a correlação das variáveis\n",
    "Como queremos encontrar as **estruturas subjacentes** de nossos dados, obviamente muitas variáveis devem ser correlacionadas. Não faz muito sentido a variável Q1 e Q2, por exemplo, pertencerem ao mesmo fator¹ (mesma dimensão) e não terem nenhuma correlação. Por conta disso, é preciso avaliar a correlação de nossos dados!\n",
    "\n",
    "*¹ Fator se refere a um conjunto de variáveis fortemente correlacionadas, ele representa uma dimensão em nossos dados. Mais pra frente esta definição ficará mais clara!*\n",
    "\n",
    "Mas qual correlação que devemos adotar? Existe a de Pearson, Kimball, etc. Cada uma delas tem uma situação de uso. No nosso caso, como as respostas do questionário são variáveis **categóricas ordinais** (escala de 1 a 5 - de *raramente a sempre verdadeiro*) é necessário aplicar a [correlação policórica](https://psicometriaonline.com.br/o-que-e-correlacao-policorica/). Para isso, vamos utilizar o método [mixedCor](https://www.rdocumentation.org/packages/psych/versions/2.3.6/topics/mixedCor)."
   ]
  },
  {
   "cell_type": "code",
   "execution_count": 6,
   "id": "e0654b52",
   "metadata": {},
   "outputs": [
    {
     "data": {
      "image/png": "[encoded data removed]",
      "text/plain": [
       "Plot with title \"\""
      ]
     },
     "metadata": {
      "image/png": {
       "height": 420,
       "width": 420
      }
     },
     "output_type": "display_data"
    }
   ],
   "source": [
    "# aplicando a correlação policórica\n",
    "df_cor <- mixedCor(df,p=1:32)\n",
    "# obtendo um dataframe com os valores da correlação\n",
    "matriz_de_correlacao = df_cor$rho\n",
    "# plotando um visual da matriz de correlação\n",
    "corrplot(matriz_de_correlacao, diag=FALSE, method='circle', type='lower',  col = COL2('PRGn', 10))"
   ]
  },
  {
   "cell_type": "markdown",
   "id": "61708552",
   "metadata": {},
   "source": [
    "Pelo gráfico de correlação acima, podemos observar que:\n",
    "\n",
    "* As questões **Q20** (*I often go overboard in putting myself down when I am making jokes or trying to be funny*) e **Q08** (*I will often get carried away in putting myself down if it makes my family or friends laugh*) tem **alta correlação positiva**.\n",
    "* As questões **Q18** (*If I'm by myself and I'm feeling unhappy, I make an effort to think of something funny to cheer myself up*) e **Q10** (*If I am feeling upset or unhappy I usually try to think of something funny about the situation to make myself feel better*) tem **alta correlação positiva**.\n",
    "* As questões **Q25** (*I don't often joke around with my friends*) e **Q13** (*I laugh and joke a lot with my closest friends*) tem **alta correlação negativa**.\n",
    "\n",
    "No entanto, apenas a partir deste gráfico não é possível verificar a estrutura subjacente (padrão oculto) do questionário. Ou seja, só com este gráfico não conseguimos encontrar os 04 estilos de humor propostos por [Rod Martin](https://www.sciencedirect.com/science/article/abs/pii/S0092656602005342)!\n",
    "\n",
    "Portanto, é preciso utilizar outra técnica estatística que nos ajude a encontrar a estrutura subjacente de nosso dados. Por conta disso, vamos usar a **Análise Fatorial Exploratória**."
   ]
  },
  {
   "cell_type": "markdown",
   "id": "308a9217",
   "metadata": {},
   "source": [
    "# Verificando se é viável a aplicação da Análise Fatorial\n",
    "\n",
    "O primeiro passo para aplicar a **Análise Fatorial Exploratória** é verificar se a utilização da análise fatorial tem validade para os nossos dados. Para isso, podemos utilizar dois métodos: o critério de Kaiser-Meyer-Olkin (KMO) e o Teste de Esfericidade de Bartlett.\n",
    "\n",
    "* O [critério KMO](https://www.ibm.com/docs/pt-br/spss-statistics/29.0.0?topic=detection-kmo-bartletts-test) indica a proporção de variância em suas variáveis que pode ser causada por fatores subjacentes. De forma geral, ele avalia a adequaçãos dos dados para a análise fatorial considerando a correlação entre as variáveis. Para [Hair](https://www.amazon.com.br/An%C3%A1lise-Multivariada-Dados-Joseph-Hair/dp/857780402X) valores maiores que 0,5 são considerados aceitáveis.\n",
    "* O [Teste de Esfericidade de Bartlett](https://www.ibm.com/docs/pt-br/spss-statistics/29.0.0?topic=detection-kmo-bartletts-test) avalia se a matriz de correlação entre as variáveis é significativamente diferente da matriz identidade. Fazemos isso, porque as matrizes identidade tem as variáveis não correlacionadas. Assim, se o teste der que a matriz é diferente da identidade é possível aplicar a análise fatorial.\n",
    "\n",
    "\n",
    "Para calcular o índice **KMO** utilizaremos o método [KMO](https://search.r-project.org/CRAN/refmans/psych/html/KMO.html) e para calcular o **Teste de Bartlett** utilizaremos o método [cortest.bartlett ](https://search.r-project.org/CRAN/refmans/psych/html/cortest.bartlett.html)."
   ]
  },
  {
   "cell_type": "code",
   "execution_count": 7,
   "id": "bc461dad",
   "metadata": {},
   "outputs": [
    {
     "data": {
      "text/plain": [
       "Kaiser-Meyer-Olkin factor adequacy\n",
       "Call: KMO(r = matriz_de_correlacao)\n",
       "Overall MSA =  0.87\n",
       "MSA for each item = \n",
       "  Q1   Q2   Q3   Q4   Q5   Q6   Q7   Q8   Q9  Q10  Q11  Q12  Q13  Q14  Q15  Q16 \n",
       "0.94 0.93 0.91 0.89 0.90 0.87 0.82 0.86 0.96 0.84 0.77 0.90 0.84 0.93 0.82 0.84 \n",
       " Q17  Q18  Q19  Q20  Q21  Q22  Q23  Q24  Q25  Q26  Q27  Q28  Q29  Q30  Q31  Q32 \n",
       "0.87 0.81 0.89 0.82 0.86 0.85 0.81 0.85 0.81 0.88 0.83 0.93 0.87 0.81 0.80 0.91 "
      ]
     },
     "metadata": {},
     "output_type": "display_data"
    }
   ],
   "source": [
    "# calculando o índice KMO do pacote psych\n",
    "KMO(matriz_de_correlacao)"
   ]
  },
  {
   "cell_type": "markdown",
   "id": "48498d53",
   "metadata": {},
   "source": [
    "O resultado geral do teste deu 0.87, isso indica que uma análise fatorial pode ser útil. Além disso, a maioria dos itens individuais (Q1 a Q32) também apresenta valores de MSA acima de 0.8, o que sugere que esses itens são adequados para análise fatorial.\n",
    "\n",
    "Agora vamos verificar a **viabilidade da análise fatorial**, utilizando o teste de bartlett."
   ]
  },
  {
   "cell_type": "code",
   "execution_count": 8,
   "id": "38fe7cd7",
   "metadata": {},
   "outputs": [
    {
     "data": {
      "text/html": [
       "<dl>\n",
       "\t<dt>$chisq</dt>\n",
       "\t\t<dd>14320.8931176229</dd>\n",
       "\t<dt>$p.value</dt>\n",
       "\t\t<dd>0</dd>\n",
       "\t<dt>$df</dt>\n",
       "\t\t<dd>496</dd>\n",
       "</dl>\n"
      ],
      "text/latex": [
       "\\begin{description}\n",
       "\\item[\\$chisq] 14320.8931176229\n",
       "\\item[\\$p.value] 0\n",
       "\\item[\\$df] 496\n",
       "\\end{description}\n"
      ],
      "text/markdown": [
       "$chisq\n",
       ":   14320.8931176229\n",
       "$p.value\n",
       ":   0\n",
       "$df\n",
       ":   496\n",
       "\n",
       "\n"
      ],
      "text/plain": [
       "$chisq\n",
       "[1] 14320.89\n",
       "\n",
       "$p.value\n",
       "[1] 0\n",
       "\n",
       "$df\n",
       "[1] 496\n"
      ]
     },
     "metadata": {},
     "output_type": "display_data"
    }
   ],
   "source": [
    "# fazendo o teste de bartlett com o pacote psych\n",
    "cortest.bartlett(matriz_de_correlacao, n = num_participantes)"
   ]
  },
  {
   "cell_type": "markdown",
   "id": "f911f2f9",
   "metadata": {},
   "source": [
    "A hipótese nula do **teste de bartlett** diz que a matriz de correlação é uma matriz identidade, o que significa que não há uma correlação significativa entre as variáveis. Como nosso p-valor deu próximo de zero, podemos afirmar que o teste estatístico nos aponta que esta hipótese nula pode ser rejeitada. Então, podemos assumir que nossa matriz de correlação não é a identidade e seguir com nossa análise fatorial."
   ]
  },
  {
   "cell_type": "markdown",
   "id": "e4c4ff24",
   "metadata": {},
   "source": [
    "# Determinando o número de Fatores\n",
    "\n",
    "**explicar o que é um fator**\n",
    "\n",
    "Bom, agora já verificamos que é possível a aplicação da análise fatorial em nossos dados. Mas a pergunta é: Quantos fatores devemos utilizar? Esta decisão não é muito simples, uma vez que o número incorreto de fatores poderia acarretar em:\n",
    "* **Superestimação de fatores**: Reter um número de fatores maior do que o adequado. Isso aumentaria a complexidade do modelo e dificultaria a interpretação dos conceitos encontrados.\n",
    "* **Subestimação de fatores**: Reter um número menor de fatores. Isso causaria a existência de fatores com pouco significado teórico.\n",
    "\n",
    "Para isso, podemos utilizar uma técnica chamada [Método de Hull](https://www.researchgate.net/publication/232840843_The_Hull_Method_for_Selecting_the_Number_of_Common_Factors). escrever mais\n",
    "\n",
    "Em nosso código, vamos utilizar o método [hullEFA](https://search.r-project.org/CRAN/refmans/EFA.MRFA/html/hullEFA.html) do pacote EFA.MRFA.\n",
    "\n",
    "* explicar o ext=ML <- método de extração dos fatores\n",
    "\n",
    "pg. 109 do Hair e pg 110  falando que uma base quantitativa exata ainda não foi definida."
   ]
  },
  {
   "cell_type": "code",
   "execution_count": 17,
   "id": "49f659c6",
   "metadata": {},
   "outputs": [
    {
     "name": "stdout",
     "output_type": "stream",
     "text": [
      "HULL METHOD - CAF INDEX\n",
      "\n",
      "        q      f          g       st\n",
      "        0      0.1293   496       0.0000 \n",
      "        1      0.2073   464       1.0431 \n",
      "        2*     0.2435   433       \n",
      "        3*     0.3043   403       \n",
      "        4      0.4177   374       1.3592 \n",
      "        5      0.4659   346       10.6378 \n",
      "        6      0.4703   319       0.0000 \n",
      "\n",
      "Number of advised dimensions: 5 \n",
      "* Value outside the convex Hull \n",
      "\n",
      "-----------------------------------------------\n",
      "\n"
     ]
    },
    {
     "data": {
      "image/png": "[encoded data removed]",
      "text/plain": [
       "plot without title"
      ]
     },
     "metadata": {
      "image/png": {
       "height": 420,
       "width": 420
      }
     },
     "output_type": "display_data"
    }
   ],
   "source": [
    "# aplicando o método hull do pacote EFA.MRFA\n",
    "hullEFA(df, extr=\"ML\")"
   ]
  },
  {
   "cell_type": "markdown",
   "id": "e586226c",
   "metadata": {},
   "source": [
    "* q: Representa o número de fatores.\n",
    "* f: Goodness-of-Fit Values.\n",
    "* g: Graus de Liberadade.\n",
    "* st: Scree test values."
   ]
  },
  {
   "cell_type": "markdown",
   "id": "8c5519aa",
   "metadata": {},
   "source": [
    "# Rotação de Fatores\n",
    "\n",
    "pq rotacionar?"
   ]
  },
  {
   "cell_type": "code",
   "execution_count": 43,
   "id": "57aa2394",
   "metadata": {},
   "outputs": [],
   "source": [
    "fa_poly <- fa(matriz_de_correlacao, fm=\"ml\", nfactors = 4, rotate=\"varimax\")"
   ]
  },
  {
   "cell_type": "code",
   "execution_count": 44,
   "id": "aa1b93dc",
   "metadata": {},
   "outputs": [
    {
     "data": {
      "image/png": "[encoded data removed]",
      "text/plain": [
       "Plot with title \"Factor Analysis\""
      ]
     },
     "metadata": {
      "image/png": {
       "height": 420,
       "width": 420
      }
     },
     "output_type": "display_data"
    }
   ],
   "source": [
    "fa.diagram(fa_poly)"
   ]
  },
  {
   "cell_type": "code",
   "execution_count": 38,
   "id": "9ac3ca6b",
   "metadata": {},
   "outputs": [],
   "source": [
    "# ver os slides do professor guilherme"
   ]
  },
  {
   "cell_type": "code",
   "execution_count": null,
   "id": "6a7b6819",
   "metadata": {},
   "outputs": [],
   "source": []
  },
  {
   "cell_type": "code",
   "execution_count": null,
   "id": "c7413a72",
   "metadata": {},
   "outputs": [],
   "source": []
  }
 ],
 "metadata": {
  "kernelspec": {
   "display_name": "R",
   "language": "R",
   "name": "ir"
  },
  "language_info": {
   "codemirror_mode": "r",
   "file_extension": ".r",
   "mimetype": "text/x-r-source",
   "name": "R",
   "pygments_lexer": "r",
   "version": "4.2.3"
  }
 },
 "nbformat": 4,
 "nbformat_minor": 5
}
