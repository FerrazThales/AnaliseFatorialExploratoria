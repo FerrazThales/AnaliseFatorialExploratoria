{
 "cells": [
  {
   "cell_type": "markdown",
   "id": "8ce70fc3",
   "metadata": {},
   "source": [
    "# Análise Fatorial Exploratória no R\n",
    "\n",
    "Atualmente, uma quantidade significativa de informações geradas não é mais descartada, mas sim armazenada em diversos bancos de dados. Embora algumas dessas informações possam ser analisadas com estatísticas simples,outras exigem técnicas que levam em conta as **interações das diferentes variáveis** que compõem nossas bases de dados. Neste contexto, a **Análise Multivariada** é uma alternativa poderosa para analisar **múltiplas variáveis** e **suas interações** em relação a indivíduos ou objetos de pesquisa. A partir de técnicas de análises **multivariadas** é possível: avaliar a existência de **associações** entre diferentes variáveis, criar indicadores a partir da **correlação** de variáveis ou identificar **padrões** formados a partir das variáveis que estão em nossos bancos de dados. Ou seja, com estas técnicas é possível entender melhor a **relação** entre as variáveis estudadas.\n",
    "\n",
    "Uma destas técnicas que está dentro do conjunto de Análise Multivariada é a **Análise Fatorial Exploratória** (AFE). A AFE é útil quando queremos identificar relações subjacentes (também chamado de fatores latentes) que representem nosso conjunto de dados. De forma mais simples, podemos dizer que a AFE nos ajuda a entender os \"estruturas ocultas/relações não óbvias\" dos nossos dados. A Análise Fatorial exploratória é uma técnica de estatística muito utilizada em pesquisas científicas em diversas áreas do conhecimento. Para aprender um pouco vai sobre ela, você pode dar uma lida neste [artigo](https://periodicoscientificos.ufmt.br/ojs/index.php/eng/article/view/7599)!\n",
    "\n",
    "##### Objetivo deste Projeto\n",
    "É propor uma aplicação de Análise Fatorial Exploratória utilizando a Linguagem R.\n",
    "\n",
    "### Humor Styles Questionnaire Responses \n",
    "*O Questionário de Estilos de Humor*\n",
    "\n",
    "O Questionário de Estilos de Humor (HSQ) é um instrumento que permite que os próprios respondentes avaliem a qual estilo de humor individual pertencem. Existem quatro estilos de humor avaliados: humor afiliativo, otimista, agressivo e autodepreciativo. Essa estrutura de quatro estilos é baseada no trabalho de [Rod Martin](https://www.sciencedirect.com/science/article/abs/pii/S0092656602005342). Essa abordagem multidimensional do senso de humor foi traduzida para mais de 25 idiomas e possui um histórico psicométrico sólido, apresentando alta confiabilidade e validade em pesquisas realizadas em diferentes países e setores da sociedade.\n",
    "\n",
    "Neste projeto, utilizaremos uma base de dados obtida no [Kaggle](https://www.kaggle.com/datasets/lucasgreenwell/humor-styles-questionnaire-responses), composta por respostas de participantes a 32 itens do questionário. Nosso objetivo é identificar a estrutura esperada de quatro fatores, ou seja, os quatro estilos de humor mencionados no modelo utilizando a Análise Fatorial Exploratória.\n",
    "\n",
    "http://rstudio-pubs-static.s3.amazonaws.com/497691_0f28e5764ad64b499bb68f8405446023.html#4_efa_with_minres_and_mle\n",
    "\n",
    "\n",
    "###### Dicionário dos 32 itens - Entendendo melhor cada um dos questionários.\n",
    "\n",
    "Você encontra qual é o conteúdo dos 32 itens do modelo de Rod Martin, através deste [link]()."
   ]
  },
  {
   "cell_type": "code",
   "execution_count": 1,
   "id": "c48e0b97",
   "metadata": {},
   "outputs": [
    {
     "name": "stderr",
     "output_type": "stream",
     "text": [
      "\n",
      "Attaching package: 'polycor'\n",
      "\n",
      "\n",
      "The following object is masked from 'package:psych':\n",
      "\n",
      "    polyserial\n",
      "\n",
      "\n"
     ]
    }
   ],
   "source": [
    "# bibliotecas que serão utilizadas no projeto\n",
    "library(psych)\n",
    "library(polycor)"
   ]
  },
  {
   "cell_type": "code",
   "execution_count": 4,
   "id": "75b967af",
   "metadata": {},
   "outputs": [
    {
     "data": {
      "text/html": [
       "<table class=\"dataframe\">\n",
       "<caption>A data.frame: 6 × 39</caption>\n",
       "<thead>\n",
       "\t<tr><th></th><th scope=col>Q1</th><th scope=col>Q2</th><th scope=col>Q3</th><th scope=col>Q4</th><th scope=col>Q5</th><th scope=col>Q6</th><th scope=col>Q7</th><th scope=col>Q8</th><th scope=col>Q9</th><th scope=col>Q10</th><th scope=col>⋯</th><th scope=col>Q30</th><th scope=col>Q31</th><th scope=col>Q32</th><th scope=col>affiliative</th><th scope=col>selfenhancing</th><th scope=col>agressive</th><th scope=col>selfdefeating</th><th scope=col>age</th><th scope=col>gender</th><th scope=col>accuracy</th></tr>\n",
       "\t<tr><th></th><th scope=col>&lt;int&gt;</th><th scope=col>&lt;int&gt;</th><th scope=col>&lt;int&gt;</th><th scope=col>&lt;int&gt;</th><th scope=col>&lt;int&gt;</th><th scope=col>&lt;int&gt;</th><th scope=col>&lt;int&gt;</th><th scope=col>&lt;int&gt;</th><th scope=col>&lt;int&gt;</th><th scope=col>&lt;int&gt;</th><th scope=col>⋯</th><th scope=col>&lt;int&gt;</th><th scope=col>&lt;int&gt;</th><th scope=col>&lt;int&gt;</th><th scope=col>&lt;dbl&gt;</th><th scope=col>&lt;dbl&gt;</th><th scope=col>&lt;dbl&gt;</th><th scope=col>&lt;dbl&gt;</th><th scope=col>&lt;int&gt;</th><th scope=col>&lt;int&gt;</th><th scope=col>&lt;int&gt;</th></tr>\n",
       "</thead>\n",
       "<tbody>\n",
       "\t<tr><th scope=row>1</th><td>2</td><td>2</td><td>3</td><td>1</td><td>4</td><td>5</td><td>4</td><td>3</td><td> 4</td><td>3</td><td>⋯</td><td>4</td><td>2</td><td>2</td><td>4.0</td><td>3.5</td><td>3.0</td><td>2.3</td><td>25</td><td>2</td><td>100</td></tr>\n",
       "\t<tr><th scope=row>2</th><td>2</td><td>3</td><td>2</td><td>2</td><td>4</td><td>4</td><td>4</td><td>3</td><td> 4</td><td>3</td><td>⋯</td><td>4</td><td>3</td><td>1</td><td>3.3</td><td>3.5</td><td>3.3</td><td>2.4</td><td>44</td><td>2</td><td> 90</td></tr>\n",
       "\t<tr><th scope=row>3</th><td>3</td><td>4</td><td>3</td><td>3</td><td>4</td><td>4</td><td>3</td><td>1</td><td> 2</td><td>4</td><td>⋯</td><td>5</td><td>4</td><td>2</td><td>3.9</td><td>3.9</td><td>3.1</td><td>2.3</td><td>50</td><td>1</td><td> 75</td></tr>\n",
       "\t<tr><th scope=row>4</th><td>3</td><td>3</td><td>3</td><td>4</td><td>3</td><td>5</td><td>4</td><td>3</td><td>-1</td><td>4</td><td>⋯</td><td>5</td><td>3</td><td>3</td><td>3.6</td><td>4.0</td><td>2.9</td><td>3.3</td><td>30</td><td>2</td><td> 85</td></tr>\n",
       "\t<tr><th scope=row>5</th><td>1</td><td>4</td><td>2</td><td>2</td><td>3</td><td>5</td><td>4</td><td>1</td><td> 4</td><td>4</td><td>⋯</td><td>5</td><td>4</td><td>2</td><td>4.1</td><td>4.1</td><td>2.9</td><td>2.0</td><td>52</td><td>1</td><td> 80</td></tr>\n",
       "\t<tr><th scope=row>6</th><td>3</td><td>3</td><td>3</td><td>2</td><td>3</td><td>3</td><td>4</td><td>2</td><td> 2</td><td>1</td><td>⋯</td><td>4</td><td>3</td><td>3</td><td>3.6</td><td>2.9</td><td>3.4</td><td>2.6</td><td>30</td><td>2</td><td> 60</td></tr>\n",
       "</tbody>\n",
       "</table>\n"
      ],
      "text/latex": [
       "A data.frame: 6 × 39\n",
       "\\begin{tabular}{r|lllllllllllllllllllll}\n",
       "  & Q1 & Q2 & Q3 & Q4 & Q5 & Q6 & Q7 & Q8 & Q9 & Q10 & ⋯ & Q30 & Q31 & Q32 & affiliative & selfenhancing & agressive & selfdefeating & age & gender & accuracy\\\\\n",
       "  & <int> & <int> & <int> & <int> & <int> & <int> & <int> & <int> & <int> & <int> & ⋯ & <int> & <int> & <int> & <dbl> & <dbl> & <dbl> & <dbl> & <int> & <int> & <int>\\\\\n",
       "\\hline\n",
       "\t1 & 2 & 2 & 3 & 1 & 4 & 5 & 4 & 3 &  4 & 3 & ⋯ & 4 & 2 & 2 & 4.0 & 3.5 & 3.0 & 2.3 & 25 & 2 & 100\\\\\n",
       "\t2 & 2 & 3 & 2 & 2 & 4 & 4 & 4 & 3 &  4 & 3 & ⋯ & 4 & 3 & 1 & 3.3 & 3.5 & 3.3 & 2.4 & 44 & 2 &  90\\\\\n",
       "\t3 & 3 & 4 & 3 & 3 & 4 & 4 & 3 & 1 &  2 & 4 & ⋯ & 5 & 4 & 2 & 3.9 & 3.9 & 3.1 & 2.3 & 50 & 1 &  75\\\\\n",
       "\t4 & 3 & 3 & 3 & 4 & 3 & 5 & 4 & 3 & -1 & 4 & ⋯ & 5 & 3 & 3 & 3.6 & 4.0 & 2.9 & 3.3 & 30 & 2 &  85\\\\\n",
       "\t5 & 1 & 4 & 2 & 2 & 3 & 5 & 4 & 1 &  4 & 4 & ⋯ & 5 & 4 & 2 & 4.1 & 4.1 & 2.9 & 2.0 & 52 & 1 &  80\\\\\n",
       "\t6 & 3 & 3 & 3 & 2 & 3 & 3 & 4 & 2 &  2 & 1 & ⋯ & 4 & 3 & 3 & 3.6 & 2.9 & 3.4 & 2.6 & 30 & 2 &  60\\\\\n",
       "\\end{tabular}\n"
      ],
      "text/markdown": [
       "\n",
       "A data.frame: 6 × 39\n",
       "\n",
       "| <!--/--> | Q1 &lt;int&gt; | Q2 &lt;int&gt; | Q3 &lt;int&gt; | Q4 &lt;int&gt; | Q5 &lt;int&gt; | Q6 &lt;int&gt; | Q7 &lt;int&gt; | Q8 &lt;int&gt; | Q9 &lt;int&gt; | Q10 &lt;int&gt; | ⋯ ⋯ | Q30 &lt;int&gt; | Q31 &lt;int&gt; | Q32 &lt;int&gt; | affiliative &lt;dbl&gt; | selfenhancing &lt;dbl&gt; | agressive &lt;dbl&gt; | selfdefeating &lt;dbl&gt; | age &lt;int&gt; | gender &lt;int&gt; | accuracy &lt;int&gt; |\n",
       "|---|---|---|---|---|---|---|---|---|---|---|---|---|---|---|---|---|---|---|---|---|---|\n",
       "| 1 | 2 | 2 | 3 | 1 | 4 | 5 | 4 | 3 |  4 | 3 | ⋯ | 4 | 2 | 2 | 4.0 | 3.5 | 3.0 | 2.3 | 25 | 2 | 100 |\n",
       "| 2 | 2 | 3 | 2 | 2 | 4 | 4 | 4 | 3 |  4 | 3 | ⋯ | 4 | 3 | 1 | 3.3 | 3.5 | 3.3 | 2.4 | 44 | 2 |  90 |\n",
       "| 3 | 3 | 4 | 3 | 3 | 4 | 4 | 3 | 1 |  2 | 4 | ⋯ | 5 | 4 | 2 | 3.9 | 3.9 | 3.1 | 2.3 | 50 | 1 |  75 |\n",
       "| 4 | 3 | 3 | 3 | 4 | 3 | 5 | 4 | 3 | -1 | 4 | ⋯ | 5 | 3 | 3 | 3.6 | 4.0 | 2.9 | 3.3 | 30 | 2 |  85 |\n",
       "| 5 | 1 | 4 | 2 | 2 | 3 | 5 | 4 | 1 |  4 | 4 | ⋯ | 5 | 4 | 2 | 4.1 | 4.1 | 2.9 | 2.0 | 52 | 1 |  80 |\n",
       "| 6 | 3 | 3 | 3 | 2 | 3 | 3 | 4 | 2 |  2 | 1 | ⋯ | 4 | 3 | 3 | 3.6 | 2.9 | 3.4 | 2.6 | 30 | 2 |  60 |\n",
       "\n"
      ],
      "text/plain": [
       "  Q1 Q2 Q3 Q4 Q5 Q6 Q7 Q8 Q9 Q10 ⋯ Q30 Q31 Q32 affiliative selfenhancing\n",
       "1 2  2  3  1  4  5  4  3   4 3   ⋯ 4   2   2   4.0         3.5          \n",
       "2 2  3  2  2  4  4  4  3   4 3   ⋯ 4   3   1   3.3         3.5          \n",
       "3 3  4  3  3  4  4  3  1   2 4   ⋯ 5   4   2   3.9         3.9          \n",
       "4 3  3  3  4  3  5  4  3  -1 4   ⋯ 5   3   3   3.6         4.0          \n",
       "5 1  4  2  2  3  5  4  1   4 4   ⋯ 5   4   2   4.1         4.1          \n",
       "6 3  3  3  2  3  3  4  2   2 1   ⋯ 4   3   3   3.6         2.9          \n",
       "  agressive selfdefeating age gender accuracy\n",
       "1 3.0       2.3           25  2      100     \n",
       "2 3.3       2.4           44  2       90     \n",
       "3 3.1       2.3           50  1       75     \n",
       "4 2.9       3.3           30  2       85     \n",
       "5 2.9       2.0           52  1       80     \n",
       "6 3.4       2.6           30  2       60     "
      ]
     },
     "metadata": {},
     "output_type": "display_data"
    }
   ],
   "source": [
    "path <- \"BaseDeDados/data.csv\"\n",
    "df <- read.csv(path)\n",
    "head(df)"
   ]
  },
  {
   "cell_type": "markdown",
   "id": "d9b96887",
   "metadata": {},
   "source": [
    "explicar"
   ]
  },
  {
   "cell_type": "code",
   "execution_count": 67,
   "id": "bc88904a",
   "metadata": {},
   "outputs": [
    {
     "name": "stdout",
     "output_type": "stream",
     "text": [
      "Número de Participantes: 1071 \n",
      "Número de Variáveis: 39"
     ]
    }
   ],
   "source": [
    "# número de respondentes\n",
    "num_participantes <- nrow(df)\n",
    "num_var <- ncol(df)\n",
    "cat('Número de Participantes:',num_participantes,'\\n')\n",
    "cat('Número de Variáveis:',num_var)"
   ]
  },
  {
   "cell_type": "markdown",
   "id": "627f9be2",
   "metadata": {},
   "source": [
    "# Análise Exploratória dos Dados\n",
    "\n",
    "* boxplot de cada questão"
   ]
  },
  {
   "cell_type": "code",
   "execution_count": 68,
   "id": "a7800f2c",
   "metadata": {},
   "outputs": [
    {
     "data": {
      "text/plain": [
       "       Q1               Q2               Q3               Q4        \n",
       " Min.   :-1.000   Min.   :-1.000   Min.   :-1.000   Min.   :-1.000  \n",
       " 1st Qu.: 1.000   1st Qu.: 3.000   1st Qu.: 2.000   1st Qu.: 2.000  \n",
       " Median : 2.000   Median : 3.000   Median : 3.000   Median : 3.000  \n",
       " Mean   : 2.025   Mean   : 3.343   Mean   : 3.078   Mean   : 2.834  \n",
       " 3rd Qu.: 3.000   3rd Qu.: 4.000   3rd Qu.: 4.000   3rd Qu.: 4.000  \n",
       " Max.   : 5.000   Max.   : 5.000   Max.   : 5.000   Max.   : 5.000  \n",
       "       Q5               Q6               Q7               Q8        \n",
       " Min.   :-1.000   Min.   :-1.000   Min.   :-1.000   Min.   :-1.000  \n",
       " 1st Qu.: 3.000   1st Qu.: 4.000   1st Qu.: 3.000   1st Qu.: 2.000  \n",
       " Median : 4.000   Median : 4.000   Median : 3.000   Median : 2.000  \n",
       " Mean   : 3.599   Mean   : 4.152   Mean   : 3.277   Mean   : 2.535  \n",
       " 3rd Qu.: 4.000   3rd Qu.: 5.000   3rd Qu.: 4.000   3rd Qu.: 3.000  \n",
       " Max.   : 5.000   Max.   : 5.000   Max.   : 5.000   Max.   : 5.000  \n",
       "       Q9              Q10              Q11             Q12        \n",
       " Min.   :-1.000   Min.   :-1.000   Min.   :-1.00   Min.   :-1.000  \n",
       " 1st Qu.: 2.000   1st Qu.: 2.000   1st Qu.: 2.00   1st Qu.: 2.000  \n",
       " Median : 2.000   Median : 3.000   Median : 3.00   Median : 3.000  \n",
       " Mean   : 2.583   Mean   : 2.869   Mean   : 2.74   Mean   : 2.965  \n",
       " 3rd Qu.: 3.000   3rd Qu.: 4.000   3rd Qu.: 4.00   3rd Qu.: 4.000  \n",
       " Max.   : 5.000   Max.   : 5.000   Max.   : 5.00   Max.   : 5.000  \n",
       "      Q13              Q14              Q15              Q16      \n",
       " Min.   :-1.000   Min.   :-1.000   Min.   :-1.000   Min.   :-1.0  \n",
       " 1st Qu.: 4.000   1st Qu.: 2.000   1st Qu.: 2.000   1st Qu.: 2.0  \n",
       " Median : 5.000   Median : 3.000   Median : 3.000   Median : 3.0  \n",
       " Mean   : 4.441   Mean   : 3.266   Mean   : 3.373   Mean   : 3.1  \n",
       " 3rd Qu.: 5.000   3rd Qu.: 4.000   3rd Qu.: 5.000   3rd Qu.: 4.0  \n",
       " Max.   : 5.000   Max.   : 5.000   Max.   : 5.000   Max.   : 5.0  \n",
       "      Q17              Q18              Q19              Q20        \n",
       " Min.   :-1.000   Min.   :-1.000   Min.   :-1.000   Min.   :-1.000  \n",
       " 1st Qu.: 1.000   1st Qu.: 2.000   1st Qu.: 2.000   1st Qu.: 1.000  \n",
       " Median : 2.000   Median : 3.000   Median : 3.000   Median : 2.000  \n",
       " Mean   : 1.915   Mean   : 2.749   Mean   : 3.244   Mean   : 2.095  \n",
       " 3rd Qu.: 2.500   3rd Qu.: 4.000   3rd Qu.: 4.000   3rd Qu.: 3.000  \n",
       " Max.   : 5.000   Max.   : 5.000   Max.   : 5.000   Max.   : 5.000  \n",
       "      Q21              Q22              Q23              Q24        \n",
       " Min.   :-1.000   Min.   :-1.000   Min.   :-1.000   Min.   :-1.000  \n",
       " 1st Qu.: 4.000   1st Qu.: 2.000   1st Qu.: 2.000   1st Qu.: 2.000  \n",
       " Median : 5.000   Median : 3.000   Median : 3.000   Median : 2.000  \n",
       " Mean   : 4.359   Mean   : 3.021   Mean   : 2.765   Mean   : 2.403  \n",
       " 3rd Qu.: 5.000   3rd Qu.: 4.000   3rd Qu.: 4.000   3rd Qu.: 3.000  \n",
       " Max.   : 5.000   Max.   : 5.000   Max.   : 5.000   Max.   : 5.000  \n",
       "      Q25              Q26              Q27              Q28        \n",
       " Min.   :-1.000   Min.   :-1.000   Min.   :-1.000   Min.   :-1.000  \n",
       " 1st Qu.: 1.000   1st Qu.: 3.000   1st Qu.: 1.000   1st Qu.: 2.000  \n",
       " Median : 1.000   Median : 4.000   Median : 2.000   Median : 3.000  \n",
       " Mean   : 1.543   Mean   : 3.514   Mean   : 2.267   Mean   : 3.205  \n",
       " 3rd Qu.: 2.000   3rd Qu.: 4.000   3rd Qu.: 3.000   3rd Qu.: 4.000  \n",
       " Max.   : 5.000   Max.   : 5.000   Max.   : 5.000   Max.   : 5.000  \n",
       "      Q29              Q30              Q31              Q32        \n",
       " Min.   :-1.000   Min.   :-1.000   Min.   :-1.000   Min.   :-1.000  \n",
       " 1st Qu.: 1.000   1st Qu.: 3.000   1st Qu.: 2.000   1st Qu.: 2.000  \n",
       " Median : 2.000   Median : 4.000   Median : 3.000   Median : 3.000  \n",
       " Mean   : 2.321   Mean   : 3.946   Mean   : 2.768   Mean   : 2.838  \n",
       " 3rd Qu.: 3.000   3rd Qu.: 5.000   3rd Qu.: 4.000   3rd Qu.: 4.000  \n",
       " Max.   : 5.000   Max.   : 5.000   Max.   : 5.000   Max.   : 5.000  \n",
       "  affiliative    selfenhancing     agressive     selfdefeating  \n",
       " Min.   :1.300   Min.   :0.000   Min.   :0.000   Min.   :0.000  \n",
       " 1st Qu.:3.600   1st Qu.:2.900   1st Qu.:2.800   1st Qu.:2.300  \n",
       " Median :4.100   Median :3.400   Median :3.000   Median :2.800  \n",
       " Mean   :4.011   Mean   :3.376   Mean   :2.957   Mean   :2.763  \n",
       " 3rd Qu.:4.500   3rd Qu.:3.800   3rd Qu.:3.300   3rd Qu.:3.100  \n",
       " Max.   :5.100   Max.   :5.000   Max.   :5.000   Max.   :5.000  \n",
       "      age               gender         accuracy     \n",
       " Min.   :   14.00   Min.   :0.000   Min.   :  2.00  \n",
       " 1st Qu.:   18.50   1st Qu.:1.000   1st Qu.: 80.00  \n",
       " Median :   23.00   Median :1.000   Median : 90.00  \n",
       " Mean   :   70.97   Mean   :1.456   Mean   : 87.54  \n",
       " 3rd Qu.:   31.00   3rd Qu.:2.000   3rd Qu.: 95.00  \n",
       " Max.   :44849.00   Max.   :3.000   Max.   :100.00  "
      ]
     },
     "metadata": {},
     "output_type": "display_data"
    }
   ],
   "source": [
    "summary(df)"
   ]
  },
  {
   "cell_type": "markdown",
   "id": "7064d0cb",
   "metadata": {},
   "source": [
    "falar da idade esquisita, explicar o -1"
   ]
  },
  {
   "cell_type": "code",
   "execution_count": 69,
   "id": "26b2c0ca",
   "metadata": {},
   "outputs": [
    {
     "data": {
      "text/html": [
       "<table class=\"dataframe\">\n",
       "<caption>A data.frame: 1 × 39</caption>\n",
       "<thead>\n",
       "\t<tr><th></th><th scope=col>Q1</th><th scope=col>Q2</th><th scope=col>Q3</th><th scope=col>Q4</th><th scope=col>Q5</th><th scope=col>Q6</th><th scope=col>Q7</th><th scope=col>Q8</th><th scope=col>Q9</th><th scope=col>Q10</th><th scope=col>⋯</th><th scope=col>Q30</th><th scope=col>Q31</th><th scope=col>Q32</th><th scope=col>affiliative</th><th scope=col>selfenhancing</th><th scope=col>agressive</th><th scope=col>selfdefeating</th><th scope=col>age</th><th scope=col>gender</th><th scope=col>accuracy</th></tr>\n",
       "\t<tr><th></th><th scope=col>&lt;int&gt;</th><th scope=col>&lt;int&gt;</th><th scope=col>&lt;int&gt;</th><th scope=col>&lt;int&gt;</th><th scope=col>&lt;int&gt;</th><th scope=col>&lt;int&gt;</th><th scope=col>&lt;int&gt;</th><th scope=col>&lt;int&gt;</th><th scope=col>&lt;int&gt;</th><th scope=col>&lt;int&gt;</th><th scope=col>⋯</th><th scope=col>&lt;int&gt;</th><th scope=col>&lt;int&gt;</th><th scope=col>&lt;int&gt;</th><th scope=col>&lt;dbl&gt;</th><th scope=col>&lt;dbl&gt;</th><th scope=col>&lt;dbl&gt;</th><th scope=col>&lt;dbl&gt;</th><th scope=col>&lt;int&gt;</th><th scope=col>&lt;int&gt;</th><th scope=col>&lt;int&gt;</th></tr>\n",
       "</thead>\n",
       "<tbody>\n",
       "\t<tr><th scope=row>958</th><td>1</td><td>5</td><td>2</td><td>1</td><td>3</td><td>4</td><td>4</td><td>5</td><td>3</td><td>4</td><td>⋯</td><td>5</td><td>5</td><td>1</td><td>4.3</td><td>3.9</td><td>2.4</td><td>2.1</td><td>44849</td><td>0</td><td>100</td></tr>\n",
       "</tbody>\n",
       "</table>\n"
      ],
      "text/latex": [
       "A data.frame: 1 × 39\n",
       "\\begin{tabular}{r|lllllllllllllllllllll}\n",
       "  & Q1 & Q2 & Q3 & Q4 & Q5 & Q6 & Q7 & Q8 & Q9 & Q10 & ⋯ & Q30 & Q31 & Q32 & affiliative & selfenhancing & agressive & selfdefeating & age & gender & accuracy\\\\\n",
       "  & <int> & <int> & <int> & <int> & <int> & <int> & <int> & <int> & <int> & <int> & ⋯ & <int> & <int> & <int> & <dbl> & <dbl> & <dbl> & <dbl> & <int> & <int> & <int>\\\\\n",
       "\\hline\n",
       "\t958 & 1 & 5 & 2 & 1 & 3 & 4 & 4 & 5 & 3 & 4 & ⋯ & 5 & 5 & 1 & 4.3 & 3.9 & 2.4 & 2.1 & 44849 & 0 & 100\\\\\n",
       "\\end{tabular}\n"
      ],
      "text/markdown": [
       "\n",
       "A data.frame: 1 × 39\n",
       "\n",
       "| <!--/--> | Q1 &lt;int&gt; | Q2 &lt;int&gt; | Q3 &lt;int&gt; | Q4 &lt;int&gt; | Q5 &lt;int&gt; | Q6 &lt;int&gt; | Q7 &lt;int&gt; | Q8 &lt;int&gt; | Q9 &lt;int&gt; | Q10 &lt;int&gt; | ⋯ ⋯ | Q30 &lt;int&gt; | Q31 &lt;int&gt; | Q32 &lt;int&gt; | affiliative &lt;dbl&gt; | selfenhancing &lt;dbl&gt; | agressive &lt;dbl&gt; | selfdefeating &lt;dbl&gt; | age &lt;int&gt; | gender &lt;int&gt; | accuracy &lt;int&gt; |\n",
       "|---|---|---|---|---|---|---|---|---|---|---|---|---|---|---|---|---|---|---|---|---|---|\n",
       "| 958 | 1 | 5 | 2 | 1 | 3 | 4 | 4 | 5 | 3 | 4 | ⋯ | 5 | 5 | 1 | 4.3 | 3.9 | 2.4 | 2.1 | 44849 | 0 | 100 |\n",
       "\n"
      ],
      "text/plain": [
       "    Q1 Q2 Q3 Q4 Q5 Q6 Q7 Q8 Q9 Q10 ⋯ Q30 Q31 Q32 affiliative selfenhancing\n",
       "958 1  5  2  1  3  4  4  5  3  4   ⋯ 5   5   1   4.3         3.9          \n",
       "    agressive selfdefeating age   gender accuracy\n",
       "958 2.4       2.1           44849 0      100     "
      ]
     },
     "metadata": {},
     "output_type": "display_data"
    }
   ],
   "source": [
    "df[df$age == 44849.00,]"
   ]
  },
  {
   "cell_type": "markdown",
   "id": "25e1750f",
   "metadata": {},
   "source": [
    "verificando distribuição entre homens e mulheres"
   ]
  },
  {
   "cell_type": "code",
   "execution_count": 70,
   "id": "439a338a",
   "metadata": {},
   "outputs": [
    {
     "data": {
      "text/plain": [
       "\n",
       "  0   1   2   3 \n",
       "  5 581 477   8 "
      ]
     },
     "metadata": {},
     "output_type": "display_data"
    }
   ],
   "source": [
    "table(df$gender)"
   ]
  },
  {
   "cell_type": "markdown",
   "id": "29c46323",
   "metadata": {},
   "source": [
    "a partir de agora é só os dados das questões"
   ]
  },
  {
   "cell_type": "code",
   "execution_count": 71,
   "id": "3af7c520",
   "metadata": {},
   "outputs": [
    {
     "data": {
      "text/html": [
       "<table class=\"dataframe\">\n",
       "<caption>A data.frame: 6 × 32</caption>\n",
       "<thead>\n",
       "\t<tr><th></th><th scope=col>Q1</th><th scope=col>Q2</th><th scope=col>Q3</th><th scope=col>Q4</th><th scope=col>Q5</th><th scope=col>Q6</th><th scope=col>Q7</th><th scope=col>Q8</th><th scope=col>Q9</th><th scope=col>Q10</th><th scope=col>⋯</th><th scope=col>Q23</th><th scope=col>Q24</th><th scope=col>Q25</th><th scope=col>Q26</th><th scope=col>Q27</th><th scope=col>Q28</th><th scope=col>Q29</th><th scope=col>Q30</th><th scope=col>Q31</th><th scope=col>Q32</th></tr>\n",
       "\t<tr><th></th><th scope=col>&lt;int&gt;</th><th scope=col>&lt;int&gt;</th><th scope=col>&lt;int&gt;</th><th scope=col>&lt;int&gt;</th><th scope=col>&lt;int&gt;</th><th scope=col>&lt;int&gt;</th><th scope=col>&lt;int&gt;</th><th scope=col>&lt;int&gt;</th><th scope=col>&lt;int&gt;</th><th scope=col>&lt;int&gt;</th><th scope=col>⋯</th><th scope=col>&lt;int&gt;</th><th scope=col>&lt;int&gt;</th><th scope=col>&lt;int&gt;</th><th scope=col>&lt;int&gt;</th><th scope=col>&lt;int&gt;</th><th scope=col>&lt;int&gt;</th><th scope=col>&lt;int&gt;</th><th scope=col>&lt;int&gt;</th><th scope=col>&lt;int&gt;</th><th scope=col>&lt;int&gt;</th></tr>\n",
       "</thead>\n",
       "<tbody>\n",
       "\t<tr><th scope=row>1</th><td>2</td><td>2</td><td>3</td><td>1</td><td>4</td><td>5</td><td>4</td><td>3</td><td> 4</td><td>3</td><td>⋯</td><td>3</td><td>2</td><td>1</td><td>3</td><td>2</td><td>4</td><td>2</td><td>4</td><td>2</td><td>2</td></tr>\n",
       "\t<tr><th scope=row>2</th><td>2</td><td>3</td><td>2</td><td>2</td><td>4</td><td>4</td><td>4</td><td>3</td><td> 4</td><td>3</td><td>⋯</td><td>4</td><td>2</td><td>2</td><td>5</td><td>1</td><td>2</td><td>4</td><td>4</td><td>3</td><td>1</td></tr>\n",
       "\t<tr><th scope=row>3</th><td>3</td><td>4</td><td>3</td><td>3</td><td>4</td><td>4</td><td>3</td><td>1</td><td> 2</td><td>4</td><td>⋯</td><td>4</td><td>3</td><td>2</td><td>4</td><td>3</td><td>3</td><td>2</td><td>5</td><td>4</td><td>2</td></tr>\n",
       "\t<tr><th scope=row>4</th><td>3</td><td>3</td><td>3</td><td>4</td><td>3</td><td>5</td><td>4</td><td>3</td><td>-1</td><td>4</td><td>⋯</td><td>2</td><td>4</td><td>2</td><td>4</td><td>2</td><td>2</td><td>4</td><td>5</td><td>3</td><td>3</td></tr>\n",
       "\t<tr><th scope=row>5</th><td>1</td><td>4</td><td>2</td><td>2</td><td>3</td><td>5</td><td>4</td><td>1</td><td> 4</td><td>4</td><td>⋯</td><td>3</td><td>1</td><td>1</td><td>5</td><td>2</td><td>3</td><td>2</td><td>5</td><td>4</td><td>2</td></tr>\n",
       "\t<tr><th scope=row>6</th><td>3</td><td>3</td><td>3</td><td>2</td><td>3</td><td>3</td><td>4</td><td>2</td><td> 2</td><td>1</td><td>⋯</td><td>4</td><td>2</td><td>2</td><td>3</td><td>2</td><td>4</td><td>3</td><td>4</td><td>3</td><td>3</td></tr>\n",
       "</tbody>\n",
       "</table>\n"
      ],
      "text/latex": [
       "A data.frame: 6 × 32\n",
       "\\begin{tabular}{r|lllllllllllllllllllll}\n",
       "  & Q1 & Q2 & Q3 & Q4 & Q5 & Q6 & Q7 & Q8 & Q9 & Q10 & ⋯ & Q23 & Q24 & Q25 & Q26 & Q27 & Q28 & Q29 & Q30 & Q31 & Q32\\\\\n",
       "  & <int> & <int> & <int> & <int> & <int> & <int> & <int> & <int> & <int> & <int> & ⋯ & <int> & <int> & <int> & <int> & <int> & <int> & <int> & <int> & <int> & <int>\\\\\n",
       "\\hline\n",
       "\t1 & 2 & 2 & 3 & 1 & 4 & 5 & 4 & 3 &  4 & 3 & ⋯ & 3 & 2 & 1 & 3 & 2 & 4 & 2 & 4 & 2 & 2\\\\\n",
       "\t2 & 2 & 3 & 2 & 2 & 4 & 4 & 4 & 3 &  4 & 3 & ⋯ & 4 & 2 & 2 & 5 & 1 & 2 & 4 & 4 & 3 & 1\\\\\n",
       "\t3 & 3 & 4 & 3 & 3 & 4 & 4 & 3 & 1 &  2 & 4 & ⋯ & 4 & 3 & 2 & 4 & 3 & 3 & 2 & 5 & 4 & 2\\\\\n",
       "\t4 & 3 & 3 & 3 & 4 & 3 & 5 & 4 & 3 & -1 & 4 & ⋯ & 2 & 4 & 2 & 4 & 2 & 2 & 4 & 5 & 3 & 3\\\\\n",
       "\t5 & 1 & 4 & 2 & 2 & 3 & 5 & 4 & 1 &  4 & 4 & ⋯ & 3 & 1 & 1 & 5 & 2 & 3 & 2 & 5 & 4 & 2\\\\\n",
       "\t6 & 3 & 3 & 3 & 2 & 3 & 3 & 4 & 2 &  2 & 1 & ⋯ & 4 & 2 & 2 & 3 & 2 & 4 & 3 & 4 & 3 & 3\\\\\n",
       "\\end{tabular}\n"
      ],
      "text/markdown": [
       "\n",
       "A data.frame: 6 × 32\n",
       "\n",
       "| <!--/--> | Q1 &lt;int&gt; | Q2 &lt;int&gt; | Q3 &lt;int&gt; | Q4 &lt;int&gt; | Q5 &lt;int&gt; | Q6 &lt;int&gt; | Q7 &lt;int&gt; | Q8 &lt;int&gt; | Q9 &lt;int&gt; | Q10 &lt;int&gt; | ⋯ ⋯ | Q23 &lt;int&gt; | Q24 &lt;int&gt; | Q25 &lt;int&gt; | Q26 &lt;int&gt; | Q27 &lt;int&gt; | Q28 &lt;int&gt; | Q29 &lt;int&gt; | Q30 &lt;int&gt; | Q31 &lt;int&gt; | Q32 &lt;int&gt; |\n",
       "|---|---|---|---|---|---|---|---|---|---|---|---|---|---|---|---|---|---|---|---|---|---|\n",
       "| 1 | 2 | 2 | 3 | 1 | 4 | 5 | 4 | 3 |  4 | 3 | ⋯ | 3 | 2 | 1 | 3 | 2 | 4 | 2 | 4 | 2 | 2 |\n",
       "| 2 | 2 | 3 | 2 | 2 | 4 | 4 | 4 | 3 |  4 | 3 | ⋯ | 4 | 2 | 2 | 5 | 1 | 2 | 4 | 4 | 3 | 1 |\n",
       "| 3 | 3 | 4 | 3 | 3 | 4 | 4 | 3 | 1 |  2 | 4 | ⋯ | 4 | 3 | 2 | 4 | 3 | 3 | 2 | 5 | 4 | 2 |\n",
       "| 4 | 3 | 3 | 3 | 4 | 3 | 5 | 4 | 3 | -1 | 4 | ⋯ | 2 | 4 | 2 | 4 | 2 | 2 | 4 | 5 | 3 | 3 |\n",
       "| 5 | 1 | 4 | 2 | 2 | 3 | 5 | 4 | 1 |  4 | 4 | ⋯ | 3 | 1 | 1 | 5 | 2 | 3 | 2 | 5 | 4 | 2 |\n",
       "| 6 | 3 | 3 | 3 | 2 | 3 | 3 | 4 | 2 |  2 | 1 | ⋯ | 4 | 2 | 2 | 3 | 2 | 4 | 3 | 4 | 3 | 3 |\n",
       "\n"
      ],
      "text/plain": [
       "  Q1 Q2 Q3 Q4 Q5 Q6 Q7 Q8 Q9 Q10 ⋯ Q23 Q24 Q25 Q26 Q27 Q28 Q29 Q30 Q31 Q32\n",
       "1 2  2  3  1  4  5  4  3   4 3   ⋯ 3   2   1   3   2   4   2   4   2   2  \n",
       "2 2  3  2  2  4  4  4  3   4 3   ⋯ 4   2   2   5   1   2   4   4   3   1  \n",
       "3 3  4  3  3  4  4  3  1   2 4   ⋯ 4   3   2   4   3   3   2   5   4   2  \n",
       "4 3  3  3  4  3  5  4  3  -1 4   ⋯ 2   4   2   4   2   2   4   5   3   3  \n",
       "5 1  4  2  2  3  5  4  1   4 4   ⋯ 3   1   1   5   2   3   2   5   4   2  \n",
       "6 3  3  3  2  3  3  4  2   2 1   ⋯ 4   2   2   3   2   4   3   4   3   3  "
      ]
     },
     "metadata": {},
     "output_type": "display_data"
    }
   ],
   "source": [
    "df <- df[,c(1:32)]\n",
    "head(df)"
   ]
  },
  {
   "cell_type": "markdown",
   "id": "3d3ca122",
   "metadata": {},
   "source": [
    "o gráfico abaixo é do psych explicar um pouco melhor"
   ]
  },
  {
   "cell_type": "code",
   "execution_count": 72,
   "id": "a5ba2073",
   "metadata": {},
   "outputs": [
    {
     "data": {
      "image/png": "[encoded data removed]",
      "text/plain": [
       "Plot with title \"Confidence Intervals around the mean\""
      ]
     },
     "metadata": {
      "image/png": {
       "height": 420,
       "width": 420
      }
     },
     "output_type": "display_data"
    }
   ],
   "source": [
    "error.dots(df, sort = FALSE)"
   ]
  },
  {
   "cell_type": "markdown",
   "id": "093909db",
   "metadata": {},
   "source": [
    "BOXPLOT|"
   ]
  },
  {
   "cell_type": "code",
   "execution_count": 73,
   "id": "0e0154b7",
   "metadata": {},
   "outputs": [
    {
     "data": {
      "image/png": "[encoded data removed]",
      "text/plain": [
       "Plot with title \"Avaliando a Distribuição de Cada Questão\""
      ]
     },
     "metadata": {
      "image/png": {
       "height": 420,
       "width": 420
      }
     },
     "output_type": "display_data"
    }
   ],
   "source": [
    "boxplot(df, main = \"Avaliando a Distribuição de Cada Questão\")"
   ]
  },
  {
   "cell_type": "markdown",
   "id": "9cedb6ec",
   "metadata": {},
   "source": [
    "testar a distribuição de cada variável -> skewness e kurtosis"
   ]
  },
  {
   "cell_type": "code",
   "execution_count": null,
   "id": "59540be6",
   "metadata": {},
   "outputs": [],
   "source": []
  },
  {
   "cell_type": "code",
   "execution_count": null,
   "id": "ea722bd6",
   "metadata": {},
   "outputs": [],
   "source": []
  },
  {
   "cell_type": "code",
   "execution_count": null,
   "id": "d7857da0",
   "metadata": {},
   "outputs": [],
   "source": []
  },
  {
   "cell_type": "markdown",
   "id": "308a9217",
   "metadata": {},
   "source": [
    "# Verificando se é viável a aplicação da Análise Fatorial\n",
    "\n",
    "\n",
    "* estudar mais sobre kmo e barlett\n",
    "kmo, barlett e matriz de correlação (policlórica)"
   ]
  },
  {
   "cell_type": "code",
   "execution_count": null,
   "id": "31dbfe58",
   "metadata": {},
   "outputs": [],
   "source": []
  },
  {
   "cell_type": "code",
   "execution_count": null,
   "id": "ba2d21a2",
   "metadata": {},
   "outputs": [],
   "source": []
  },
  {
   "cell_type": "code",
   "execution_count": null,
   "id": "f6b88375",
   "metadata": {},
   "outputs": [],
   "source": []
  },
  {
   "cell_type": "code",
   "execution_count": null,
   "id": "9839006a",
   "metadata": {},
   "outputs": [],
   "source": []
  },
  {
   "cell_type": "code",
   "execution_count": 64,
   "id": "bc461dad",
   "metadata": {},
   "outputs": [
    {
     "data": {
      "text/plain": [
       "Kaiser-Meyer-Olkin factor adequacy\n",
       "Call: KMO(r = df)\n",
       "Overall MSA =  0.87\n",
       "MSA for each item = \n",
       "  Q1   Q2   Q3   Q4   Q5   Q6   Q7   Q8   Q9  Q10  Q11  Q12  Q13  Q14  Q15  Q16 \n",
       "0.92 0.92 0.90 0.89 0.90 0.88 0.82 0.86 0.95 0.86 0.80 0.90 0.86 0.92 0.83 0.86 \n",
       " Q17  Q18  Q19  Q20  Q21  Q22  Q23  Q24  Q25  Q26  Q27  Q28  Q29  Q30  Q31  Q32 \n",
       "0.88 0.83 0.89 0.84 0.87 0.84 0.81 0.85 0.83 0.89 0.83 0.93 0.85 0.82 0.81 0.90 "
      ]
     },
     "metadata": {},
     "output_type": "display_data"
    }
   ],
   "source": [
    "KMO(df)"
   ]
  },
  {
   "cell_type": "code",
   "execution_count": null,
   "id": "debbf1ea",
   "metadata": {},
   "outputs": [],
   "source": []
  },
  {
   "cell_type": "code",
   "execution_count": null,
   "id": "78107f51",
   "metadata": {},
   "outputs": [],
   "source": []
  },
  {
   "cell_type": "code",
   "execution_count": null,
   "id": "91bd186e",
   "metadata": {},
   "outputs": [],
   "source": []
  },
  {
   "cell_type": "code",
   "execution_count": null,
   "id": "e0ec694c",
   "metadata": {},
   "outputs": [],
   "source": []
  },
  {
   "cell_type": "code",
   "execution_count": null,
   "id": "f3f4e51b",
   "metadata": {},
   "outputs": [],
   "source": []
  },
  {
   "cell_type": "code",
   "execution_count": null,
   "id": "3be112ec",
   "metadata": {},
   "outputs": [],
   "source": []
  },
  {
   "cell_type": "code",
   "execution_count": null,
   "id": "05298dfd",
   "metadata": {},
   "outputs": [],
   "source": []
  },
  {
   "cell_type": "code",
   "execution_count": null,
   "id": "a18f1afb",
   "metadata": {},
   "outputs": [],
   "source": []
  },
  {
   "cell_type": "code",
   "execution_count": null,
   "id": "bda64b33",
   "metadata": {},
   "outputs": [],
   "source": []
  },
  {
   "cell_type": "markdown",
   "id": "d80166b6",
   "metadata": {},
   "source": [
    "# Referências\n",
    "\n",
    "* [ [1] Uso da análise fatorial exploratória em psicologia](http://pepsic.bvsalud.org/scielo.php?script=sci_arttext&pid=S1677-04712012000200007#:~:text=A%20an%C3%A1lise%20fatorial%20explorat%C3%B3ria%20(AFE,obter%20uma%20estrutura%20fatorial%20adequada.)\n",
    "* [ [2] Análise Multivariada de Dados](https://www.amazon.com.br/An%C3%A1lise-Multivariada-Dados-Joseph-Hair/dp/857780402X/ref=sr_1_5?keywords=an%C3%A1lise+multivariada+de+dados&qid=1687045475&sprefix=an%C3%A1lise+multiva%2Caps%2C277&sr=8-5&ufe=app_do%3Aamzn1.fos.6121c6c4-c969-43ae-92f7-cc248fc6181d)\n",
    "* [ [3] Individual differences in uses of humor and their relation to psychological well-being: Development of the Humor Styles Questionnaire](https://www.sciencedirect.com/science/article/abs/pii/S0092656602005342)"
   ]
  }
 ],
 "metadata": {
  "kernelspec": {
   "display_name": "R",
   "language": "R",
   "name": "ir"
  },
  "language_info": {
   "codemirror_mode": "r",
   "file_extension": ".r",
   "mimetype": "text/x-r-source",
   "name": "R",
   "pygments_lexer": "r",
   "version": "4.2.3"
  }
 },
 "nbformat": 4,
 "nbformat_minor": 5
}
